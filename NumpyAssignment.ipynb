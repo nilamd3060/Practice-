{
 "cells": [
  {
   "cell_type": "code",
   "execution_count": 1,
   "id": "a17a7119-3aba-4811-993a-89df1c2adbfd",
   "metadata": {},
   "outputs": [
    {
     "name": "stdout",
     "output_type": "stream",
     "text": [
      "[0 1 2 3 4 5]\n"
     ]
    },
    {
     "data": {
      "text/plain": [
       "dtype('int64')"
      ]
     },
     "execution_count": 1,
     "metadata": {},
     "output_type": "execute_result"
    }
   ],
   "source": [
    "#Q1.Create a NumPy array 'arr' of integers from 0 to 5 and print its data type.#\n",
    "\n",
    "import numpy as np\n",
    "\n",
    "l1 = [0,1,2,3,4,5]\n",
    "arr = np.array(l1)\n",
    "print(arr)\n",
    "arr.dtype\n"
   ]
  },
  {
   "cell_type": "code",
   "execution_count": 4,
   "id": "6171b7e9-093a-465b-a220-bd53719043d0",
   "metadata": {},
   "outputs": [
    {
     "data": {
      "text/plain": [
       "dtype('int64')"
      ]
     },
     "execution_count": 4,
     "metadata": {},
     "output_type": "execute_result"
    }
   ],
   "source": [
    "arr.dtype"
   ]
  },
  {
   "cell_type": "code",
   "execution_count": 9,
   "id": "10aa38dd-6612-4b1d-839f-67fe5d40de79",
   "metadata": {},
   "outputs": [
    {
     "name": "stdout",
     "output_type": "stream",
     "text": [
      "Given data type is float64 ? True\n"
     ]
    },
    {
     "data": {
      "text/plain": [
       "(None,)"
      ]
     },
     "execution_count": 9,
     "metadata": {},
     "output_type": "execute_result"
    }
   ],
   "source": [
    "#Q2.Given a NumPy array 'arr', check if its data type is float64.#\n",
    "\n",
    "arr = np.array([1.5, 2.6, 3.7])\n",
    "is_float64 = arr.dtype == np.float64\n",
    "print(\"Given data type is float64 ?\", is_float64), "
   ]
  },
  {
   "cell_type": "code",
   "execution_count": 11,
   "id": "73f8c911-64bb-4e6e-aea7-f6f46bd111c4",
   "metadata": {},
   "outputs": [
    {
     "name": "stdout",
     "output_type": "stream",
     "text": [
      "complex128\n"
     ]
    }
   ],
   "source": [
    "#Q3, Create a NumPy array 'arr' with a data type of complex128 containing three complex numbers#\n",
    "\n",
    "l2 = [1,2,3+4j,5,6+5j,7,8+9j]\n",
    "arr = np.array(l2)\n",
    "print(arr.dtype)"
   ]
  },
  {
   "cell_type": "code",
   "execution_count": 13,
   "id": "974d5f0f-67e7-409a-bbe3-0b70da4cc860",
   "metadata": {},
   "outputs": [
    {
     "name": "stdout",
     "output_type": "stream",
     "text": [
      "complex128\n"
     ]
    }
   ],
   "source": [
    "l2 = [1,2,3+4j,5,6+5j,7,8+9j]\n",
    "arr = np.array(l2,dtype = np.complex128)\n",
    "print(arr.dtype)"
   ]
  },
  {
   "cell_type": "code",
   "execution_count": 22,
   "id": "9cd66c80-e231-472c-9ce8-e8375b281c6b",
   "metadata": {},
   "outputs": [
    {
     "name": "stdout",
     "output_type": "stream",
     "text": [
      "Actual Data : [0, 1, 2, 3, 4, 5]\n",
      "Datatype: int64\n",
      "Converted array [0. 1. 2. 3. 4. 5.]\n",
      "Converted Datatype float32\n"
     ]
    }
   ],
   "source": [
    "#Q4. Convert an existing NumPy array 'arr' of integers to float32 data type#\n",
    "\n",
    "l1 = [0,1,2,3,4,5]\n",
    "arr = np.array(l1)\n",
    "print(\"Actual Data :\",l1)\n",
    "print(\"Datatype:\", arr.dtype)\n",
    "is_float32 = arr.astype(np.float32)\n",
    "print(\"Converted array\",is_float32)\n",
    "print(\"Converted Datatype\", is_float32.dtype)"
   ]
  },
  {
   "cell_type": "code",
   "execution_count": 25,
   "id": "256ef114-434e-4f5b-b859-230edb2935d0",
   "metadata": {},
   "outputs": [
    {
     "name": "stdout",
     "output_type": "stream",
     "text": [
      "Actual Data [1.5 2.6 3.7]\n",
      "Datatype float64\n",
      "Converted array [1.5 2.6 3.7]\n",
      "Converted Datatype float32\n"
     ]
    }
   ],
   "source": [
    "#Q5.Given a NumPy array 'arr' with float64 data type, convert it to float32 to reduce decimal precision #\n",
    "\n",
    "arr = np.array([1.5, 2.6, 3.7])\n",
    "is_float64 = arr.dtype == np.float64\n",
    "print(\"Actual Data\", arr)\n",
    "print(\"Datatype\",arr.dtype)\n",
    "a_float32 = arr.astype(np.float32)\n",
    "print(\"Converted array\",a_float32)\n",
    "print(\"Converted Datatype\", a_float32.dtype)"
   ]
  },
  {
   "cell_type": "code",
   "execution_count": 28,
   "id": "fd731b23-8825-4fda-97dd-2578cefbcd3f",
   "metadata": {},
   "outputs": [],
   "source": [
    "#Q6. Write a function array_attributes that takes a NumPy array as input and returns its shape, size, and data type#\n",
    "\n",
    "array_attributes = input(\"Enter the array\")\n",
    "\n",
    "arr1 = np.array(array_attributess)\n",
    "arr1\n",
    "print(\"shape\", arr1.shape)\n",
    "print(\"size\",arr1.size)\n",
    "print(\"Datatype\",arr1.dtype)"
   ]
  },
  {
   "cell_type": "code",
   "execution_count": 32,
   "id": "bbec431f-5fc8-4b58-af71-1f86a7986c8d",
   "metadata": {},
   "outputs": [
    {
     "name": "stdout",
     "output_type": "stream",
     "text": [
      "shape (2, 3)\n",
      "size 6\n",
      "Datatype int64\n"
     ]
    }
   ],
   "source": [
    "def array_attributes(arr):\n",
    "    shape = arr.shape\n",
    "    size = arr.size\n",
    "    datatype = arr.dtype\n",
    "    return shape, size, datatype\n",
    "\n",
    "arr1 = np.array([[3, 4, 5], [7, 8, 9]])\n",
    "shape, size, datatype = array_attributes(arr1)\n",
    "\n",
    "print(\"shape\",shape)\n",
    "print(\"size\",size)\n",
    "print(\"Datatype\",datatype)"
   ]
  },
  {
   "cell_type": "code",
   "execution_count": 39,
   "id": "bf7c6ec8-1ce7-40cc-8b0e-72ea64ab0621",
   "metadata": {},
   "outputs": [
    {
     "name": "stdout",
     "output_type": "stream",
     "text": [
      "Dimession of arr1 1\n",
      "Dimession of arr2 2\n",
      "Dimession arr3 3\n"
     ]
    }
   ],
   "source": [
    "#Q7.Create a function array_dimension that takes a NumPy array as input and returns its dimensionality#\n",
    "\n",
    "def array_dimension(arr):\n",
    "    return arr.ndim\n",
    "\n",
    "arr1 = np.array([1,2,3.4])\n",
    "arr2 = np.array([[1,2,3,4],[5,6,7,8]])\n",
    "arr3 = np.array([[[1],[2],[3],[4]],[[5],[6],[7],[8]]])\n",
    "\n",
    "print(\"Dimession of arr1\",array_dimension(arr1))\n",
    "print(\"Dimession of arr2\",array_dimension(arr2))\n",
    "print(\"Dimession arr3\",array_dimension(arr3))\n"
   ]
  },
  {
   "cell_type": "code",
   "execution_count": 43,
   "id": "d7c7a35f-adde-454c-b8e6-d0391002bdce",
   "metadata": {},
   "outputs": [
    {
     "name": "stdout",
     "output_type": "stream",
     "text": [
      "Size 4\n",
      "total_size_bytes 32\n"
     ]
    }
   ],
   "source": [
    "#Q8. Design a function item_size_info that takes a NumPy array as input and returns the item size and the total size in bytes.#\n",
    "\n",
    "def item_size_info(arr):\n",
    "    size = arr.size\n",
    "    total_size_bytes = arr.nbytes\n",
    "    return size, total_size_bytes\n",
    "\n",
    "arr1 = np.array([1,2,3,4])\n",
    "size, total_size_bytes = item_size_info(arr1)\n",
    "\n",
    "print(\"Size\",size)\n",
    "print(\"total_size_bytes\",total_size_bytes)"
   ]
  },
  {
   "cell_type": "code",
   "execution_count": 44,
   "id": "5fcf707d-f862-4522-8373-1095ce35db6c",
   "metadata": {},
   "outputs": [
    {
     "name": "stdout",
     "output_type": "stream",
     "text": [
      "Size 8\n",
      "total_size_bytes 32\n"
     ]
    }
   ],
   "source": [
    "def item_size_info(arr):\n",
    "    size = arr.itemsize\n",
    "    total_size_bytes = arr.nbytes\n",
    "    return size, total_size_bytes\n",
    "\n",
    "arr1 = np.array([1,2,3,4])\n",
    "size, total_size_bytes = item_size_info(arr1)\n",
    "\n",
    "print(\"Size\",size)\n",
    "print(\"total_size_bytes\",total_size_bytes)"
   ]
  },
  {
   "cell_type": "code",
   "execution_count": 45,
   "id": "f765a000-97ac-4f46-af68-5706cd07fd76",
   "metadata": {},
   "outputs": [
    {
     "name": "stdout",
     "output_type": "stream",
     "text": [
      "Strides of Array (32, 8)\n"
     ]
    }
   ],
   "source": [
    "#Q9.Create a function array_strides that takes a NumPy array as input and returns the strides of the array#\n",
    "\n",
    "def array_strides(arr):\n",
    "    return arr.strides\n",
    "arr1 = np.array([[1,2,3,4],[5,6,7,8]])\n",
    "print(\"Strides of Array\", array_strides(arr1))"
   ]
  },
  {
   "cell_type": "code",
   "execution_count": 48,
   "id": "7364e15e-d6c5-4831-8215-2710028e8222",
   "metadata": {},
   "outputs": [
    {
     "name": "stdout",
     "output_type": "stream",
     "text": [
      "Shape of array (2, 4)\n",
      "Stides of array (32, 8)\n"
     ]
    }
   ],
   "source": [
    "#Q10.Design a function shape_stride_relationship that takes a NumPy array as input and returns the shap and strides of the array#\n",
    "\n",
    "def shape_stride_relationship(arr):\n",
    "    shape = arr.shape\n",
    "    strides = arr.strides\n",
    "    return shape, strides\n",
    "arr1 = np.array([[1,2,3,4],[5,6,7,8]])\n",
    "shape,strides = shape_stride_relationship(arr1)\n",
    "print (\"Shape of array\",shape)\n",
    "print(\"Stides of array\",strides) "
   ]
  },
  {
   "cell_type": "code",
   "execution_count": 6,
   "id": "17631996-beaf-4c68-a4d6-6bdf7330bb90",
   "metadata": {},
   "outputs": [
    {
     "name": "stdout",
     "output_type": "stream",
     "text": [
      "Array with n elements [[0. 0.]\n",
      " [0. 0.]]\n"
     ]
    }
   ],
   "source": [
    "#Q11.Create a function `create_zeros_array` that takes an integer `n` as input an returns a NumPy array ofzeros with `n` elements. #\n",
    "\n",
    "import numpy as np\n",
    "\n",
    "def create_zeros_array(n):\n",
    "    return np.zeros(n)\n",
    "\n",
    "arr1 = np.array([2,2])\n",
    "print(\"Array with n elements\", create_zeros_array(arr1))"
   ]
  },
  {
   "cell_type": "code",
   "execution_count": 4,
   "id": "8476221a-ab05-4c2c-b722-3eafe0f1a9f0",
   "metadata": {},
   "outputs": [
    {
     "name": "stdout",
     "output_type": "stream",
     "text": [
      "Array with n elements: [0. 0. 0. 0. 0.]\n"
     ]
    }
   ],
   "source": [
    "def create_zeros_array(n):\n",
    "    return np.zeros(n)\n",
    "\n",
    "arr1 = np.array([1, 2, 3, 4, 5])\n",
    "print(\"Array with n elements:\", create_zeros_array(len(arr1)))"
   ]
  },
  {
   "cell_type": "code",
   "execution_count": 12,
   "id": "661b53fe-ce92-49c6-b0b1-5a52dc25b23f",
   "metadata": {},
   "outputs": [
    {
     "name": "stdout",
     "output_type": "stream",
     "text": [
      "Matrix [[1. 1. 1. 1.]\n",
      " [1. 1. 1. 1.]\n",
      " [1. 1. 1. 1.]]\n"
     ]
    }
   ],
   "source": [
    "#Q12.Write a function `create_ones_matrix` that takes integers `rows` and `cols` as inputs and generates a 2D NumPy array filled with ones of size `rows x cols`#\n",
    "\n",
    "def create_ones_matrix(rows, col):\n",
    "    return np.ones((rows,col))\n",
    "matrix = create_ones_matrix(3, 4)\n",
    "print(\"Matrix\",matrix)\n",
    "\n",
    "    "
   ]
  },
  {
   "cell_type": "code",
   "execution_count": 19,
   "id": "09c9a4e9-40e3-4e37-afb6-fe5b25111ae9",
   "metadata": {},
   "outputs": [
    {
     "name": "stdout",
     "output_type": "stream",
     "text": [
      "Range [1.  1.2 1.4 1.6 1.8 2.  2.2 2.4 2.6 2.8 3.  3.2 3.4 3.6 3.8 4.  4.2 4.4\n",
      " 4.6 4.8 5.  5.2 5.4 5.6 5.8 6.  6.2 6.4 6.6 6.8 7.  7.2 7.4 7.6 7.8 8.\n",
      " 8.2 8.4 8.6 8.8 9.  9.2 9.4 9.6 9.8]\n"
     ]
    }
   ],
   "source": [
    "#Q13.Write a function `generate_range_array` that takes three integers start, stop, and step as arguments and creates a NumPy array with a range starting from `start`, ending at stop (exclusive), and with the specified step#\n",
    "\n",
    "def generate_range_array(start,stop,step):\n",
    "    return np.arange(start,stop,step)\n",
    "arr1 = generate_range_array(1,10,0.2)\n",
    "print(\"Range\",arr1)"
   ]
  },
  {
   "cell_type": "code",
   "execution_count": 24,
   "id": "7da431d0-db31-4fb3-a045-2487602c7f3b",
   "metadata": {},
   "outputs": [
    {
     "name": "stdout",
     "output_type": "stream",
     "text": [
      "Linear Space [1.         1.11111111 1.22222222 1.33333333 1.44444444 1.55555556\n",
      " 1.66666667 1.77777778 1.88888889 2.        ]\n"
     ]
    }
   ],
   "source": [
    "#Q14. Design a function `generate_linear_space` that takes two floats `start`, `stop`, and an integer `num` as arguments and generates a NumPy array with num equally spaced values between `start` and `stop` (inclusive).#\n",
    "\n",
    "def generate_linear_space(start,stop,num):\n",
    "    return np.linspace(start,stop,num)\n",
    "arr1 = generate_linear_space(1,2,10)\n",
    "print(\"Linear Space\",arr1)"
   ]
  },
  {
   "cell_type": "code",
   "execution_count": 26,
   "id": "725111aa-ba85-4d2c-8b3c-0682a3a8f149",
   "metadata": {},
   "outputs": [
    {
     "name": "stdout",
     "output_type": "stream",
     "text": [
      "Identity Matrix [[1. 0. 0. 0. 0.]\n",
      " [0. 1. 0. 0. 0.]\n",
      " [0. 0. 1. 0. 0.]\n",
      " [0. 0. 0. 1. 0.]\n",
      " [0. 0. 0. 0. 1.]]\n"
     ]
    }
   ],
   "source": [
    "#Q15. Create a function `create_identity_matrix` that takes an integer `n` as input and generates a square identity matrix of size `n x n` using `numpy.eye`.#\n",
    "\n",
    "def create_identity_matrix(n):\n",
    "    return np.eye(n)\n",
    "identity_matrix = create_identity_matrix(5)\n",
    "print(\"Identity Matrix\",identity_matrix)"
   ]
  },
  {
   "cell_type": "code",
   "execution_count": 27,
   "id": "f661205d-d15a-4bb6-a284-54c7b75a8fbf",
   "metadata": {},
   "outputs": [
    {
     "data": {
      "text/plain": [
       "array([1, 2, 3, 4, 5])"
      ]
     },
     "execution_count": 27,
     "metadata": {},
     "output_type": "execute_result"
    }
   ],
   "source": [
    "#Q16.Write a function that takes a Python list and converts it into a NumPy array #\n",
    "\n",
    "l = [1,2,3,4,5]\n",
    "arr = np.array(l)\n",
    "arr\n"
   ]
  },
  {
   "cell_type": "code",
   "execution_count": 29,
   "id": "34af334e-1d86-4e02-9182-9f63512cb867",
   "metadata": {},
   "outputs": [
    {
     "name": "stdout",
     "output_type": "stream",
     "text": [
      "[1 2 3 4]\n"
     ]
    }
   ],
   "source": [
    "def python_list(lis):\n",
    "    return np.array(lis)\n",
    "l1 = [1,2,3,4]\n",
    "arr = python_list(l1)\n",
    "print(arr)"
   ]
  },
  {
   "cell_type": "code",
   "execution_count": 30,
   "id": "61992190-4913-406b-92ec-2d5f3b5dec2c",
   "metadata": {},
   "outputs": [
    {
     "name": "stdout",
     "output_type": "stream",
     "text": [
      "Array [10  2  3  4  5]\n",
      "View Array [10  2  3  4  5]\n"
     ]
    }
   ],
   "source": [
    "#Q17.Create a NumPy array and demonstrate the use of `numpy.view` to create a new array object with the same data #\n",
    "\n",
    "org_array = np.array([1,2,3,4,5])\n",
    "view_array = org_array.view()\n",
    "view_array[0] = 10\n",
    "print(\"Array\",org_array)\n",
    "print(\"View Array\", view_array)"
   ]
  },
  {
   "cell_type": "code",
   "execution_count": 50,
   "id": "01904006-37dd-4596-950a-56c7b1fcc0c3",
   "metadata": {},
   "outputs": [
    {
     "name": "stdout",
     "output_type": "stream",
     "text": [
      "Cancatination of Twp Numpy arrays [[1 2]\n",
      " [3 4]\n",
      " [5 6]\n",
      " [7 8]]\n",
      "Concatenate along axis 1:\n",
      " [[1 2 5 6]\n",
      " [3 4 7 8]]\n"
     ]
    }
   ],
   "source": [
    "#Q18.Write a function that takes two NumPy arrays and concatenates them along a specified axis.#\n",
    "\n",
    "def concatenates_array(arr1, arr2, axis=0):\n",
    "    return np.concatenate((arr1, arr2), axis=axis)\n",
    "\n",
    "arr1 = np.array([[1,2],[3,4]])\n",
    "arr2 = np.array([[5,6],[7,8]])\n",
    "concat_axis0 = concatenates_array(arr1, arr2, axis=0)#axis 0 \n",
    "print(\"Cancatination of Twp Numpy arrays\", concat_axis0)\n",
    "\n",
    "concat_axis1 = concatenate_arrays(array1, array2, axis=1) #axis1 \n",
    "print(\"Concatenate along axis 1:\\n\", concat_axis1)"
   ]
  },
  {
   "cell_type": "code",
   "execution_count": 52,
   "id": "86ae23f1-5180-47da-b6f0-cff677867687",
   "metadata": {},
   "outputs": [
    {
     "name": "stdout",
     "output_type": "stream",
     "text": [
      "Concatenat Horizantally [[1 2 3 4 5]\n",
      " [3 4 6 7 8]]\n"
     ]
    }
   ],
   "source": [
    "#Q19.Create two NumPy arrays with different shapes and concatenate them horizontally using `numpy concatenate`#\n",
    "\n",
    "def concatenate_horizontally(arr1, arr2, axis=1):\n",
    "    return np.concatenate((arr1,arr2),axis=axis)\n",
    "\n",
    "arr1 = np.array([[1,2],[3,4]])\n",
    "arr2 = np.array([[3,4,5],[6,7,8]])\n",
    "\n",
    "concat_axis1 = concatenate_horizontally(arr1,arr2, axis=1)\n",
    "print(\"Concatenat Horizantally\",concat_axis1)"
   ]
  },
  {
   "cell_type": "code",
   "execution_count": 56,
   "id": "24fbb994-c992-4897-93ca-9e00d05a6342",
   "metadata": {},
   "outputs": [
    {
     "name": "stdout",
     "output_type": "stream",
     "text": [
      "Vertically Stacked Array:\n",
      " [[1 2]\n",
      " [3 4]\n",
      " [5 6]\n",
      " [7 8]]\n"
     ]
    }
   ],
   "source": [
    "#Q20.Write a function that vertically stacks multiple NumPy arrays given as a list#\n",
    "\n",
    "def vertical_stack(arr):\n",
    "    return np.vstack(arr)\n",
    "arr_list = [\n",
    "    np.array([[1, 2], [3, 4]]),\n",
    "    np.array([[5, 6], [7, 8]])]\n",
    "stacked_arr = vertical_stack(arr_list)\n",
    "print(\"Vertically Stacked Array:\\n\", stacked_arr)\n"
   ]
  },
  {
   "cell_type": "code",
   "execution_count": 57,
   "id": "13669aa3-0737-4dab-a98c-46f34cb6c4be",
   "metadata": {},
   "outputs": [
    {
     "name": "stdout",
     "output_type": "stream",
     "text": [
      "Array [ 1  3  5  7  9 11 13 15 17 19 21]\n"
     ]
    }
   ],
   "source": [
    "#Q21.Write a Python function using NumPy to create an array of integers within a specified range (inclusive) with a given step size #\n",
    "\n",
    "def array_range(start,stop,step):\n",
    "    return np.arange(start,stop+step,step)\n",
    "arr = array_range(1,20,2)\n",
    "print(\"Array\",arr)"
   ]
  },
  {
   "cell_type": "code",
   "execution_count": 58,
   "id": "85a31de7-4c75-492b-a5d8-ff63c2d9834e",
   "metadata": {},
   "outputs": [
    {
     "name": "stdout",
     "output_type": "stream",
     "text": [
      "Array: [0.         0.11111111 0.22222222 0.33333333 0.44444444 0.55555556\n",
      " 0.66666667 0.77777778 0.88888889 1.        ]\n"
     ]
    }
   ],
   "source": [
    "#Q22.Write a Python function using NumPy to generate an array of 10 equally spaced values between 0 and 1 (inclusive) #\n",
    "\n",
    "def spaced_array(start, stop, num):\n",
    "    return np.linspace(start, stop, num)\n",
    "array = spaced_array(0, 1, 10)\n",
    "print(\"Array:\", array)"
   ]
  },
  {
   "cell_type": "code",
   "execution_count": 59,
   "id": "67bff140-9008-4e3e-935b-f7c44fa24bdb",
   "metadata": {},
   "outputs": [
    {
     "name": "stdout",
     "output_type": "stream",
     "text": [
      "Array [ 1.          1.29154967  1.66810054  2.15443469  2.7825594   3.59381366\n",
      "  4.64158883  5.9948425   7.74263683 10.        ]\n"
     ]
    }
   ],
   "source": [
    "#Q23. Write a Python function using NumPy to create an array of 5 logarithmically spaced values between 1 and 1000 (inclusive) #\n",
    "\n",
    "def log_array(start,stop,num):\n",
    "    return np.logspace(start,stop,num)\n",
    "array = log_array(0,1,10)\n",
    "print(\"Array\",array)"
   ]
  },
  {
   "cell_type": "code",
   "execution_count": 61,
   "id": "06cba5d8-7c60-467d-a577-9ae074aaa2ed",
   "metadata": {},
   "outputs": [
    {
     "data": {
      "text/html": [
       "<div>\n",
       "<style scoped>\n",
       "    .dataframe tbody tr th:only-of-type {\n",
       "        vertical-align: middle;\n",
       "    }\n",
       "\n",
       "    .dataframe tbody tr th {\n",
       "        vertical-align: top;\n",
       "    }\n",
       "\n",
       "    .dataframe thead th {\n",
       "        text-align: right;\n",
       "    }\n",
       "</style>\n",
       "<table border=\"1\" class=\"dataframe\">\n",
       "  <thead>\n",
       "    <tr style=\"text-align: right;\">\n",
       "      <th></th>\n",
       "      <th>col1</th>\n",
       "      <th>col2</th>\n",
       "      <th>col3</th>\n",
       "    </tr>\n",
       "  </thead>\n",
       "  <tbody>\n",
       "    <tr>\n",
       "      <th>0</th>\n",
       "      <td>54</td>\n",
       "      <td>96</td>\n",
       "      <td>4</td>\n",
       "    </tr>\n",
       "    <tr>\n",
       "      <th>1</th>\n",
       "      <td>40</td>\n",
       "      <td>73</td>\n",
       "      <td>98</td>\n",
       "    </tr>\n",
       "    <tr>\n",
       "      <th>2</th>\n",
       "      <td>34</td>\n",
       "      <td>39</td>\n",
       "      <td>15</td>\n",
       "    </tr>\n",
       "    <tr>\n",
       "      <th>3</th>\n",
       "      <td>27</td>\n",
       "      <td>60</td>\n",
       "      <td>70</td>\n",
       "    </tr>\n",
       "    <tr>\n",
       "      <th>4</th>\n",
       "      <td>25</td>\n",
       "      <td>93</td>\n",
       "      <td>56</td>\n",
       "    </tr>\n",
       "  </tbody>\n",
       "</table>\n",
       "</div>"
      ],
      "text/plain": [
       "   col1  col2  col3\n",
       "0    54    96     4\n",
       "1    40    73    98\n",
       "2    34    39    15\n",
       "3    27    60    70\n",
       "4    25    93    56"
      ]
     },
     "execution_count": 61,
     "metadata": {},
     "output_type": "execute_result"
    }
   ],
   "source": [
    "#Q24. Create a Pandas DataFrame using a NumPy array that contains 5 rows and 3 columns, where the values are random integers between 1 and 100 #\n",
    "\n",
    "import pandas as pd\n",
    "\n",
    "n_arr = np.random.randint(1,100,(5,3))\n",
    "df = pd.DataFrame(n_arr, columns=['col1','col2','col3'])\n",
    "df\n",
    "                                  \n",
    "        "
   ]
  },
  {
   "cell_type": "code",
   "execution_count": 66,
   "id": "e20a2710-df45-4468-9628-ef8ee7e3298d",
   "metadata": {},
   "outputs": [
    {
     "name": "stdout",
     "output_type": "stream",
     "text": [
      "Original DataFrame:\n",
      "    A  B\n",
      "0  10 -1\n",
      "1  -5  6\n",
      "2   3 -3\n",
      "3  -2  8\n",
      "4   7 -4\n",
      "\n",
      "DataFrame after replacing negatives in column 'A':\n",
      "    A  B\n",
      "0  10 -1\n",
      "1   0  6\n",
      "2   3 -3\n",
      "3   0  8\n",
      "4   7 -4\n",
      "\n",
      "DataFrame after replacing negatives in column 'B':\n",
      "    A  B\n",
      "0  10  0\n",
      "1   0  6\n",
      "2   3  0\n",
      "3   0  8\n",
      "4   7  0\n"
     ]
    }
   ],
   "source": [
    "#Q25. Write a function that takes a Pandas DataFrame and replaces all negative values in a specific column with zeros. Use NumPy operations within the Pandas DataFrame#\n",
    "\n",
    "def replace_negatives_with_zeros(df, column_name):\n",
    "    if column_name in df.columns:\n",
    "        df[column_name] = np.where(df[column_name] < 0, 0, df[column_name])\n",
    "    else:\n",
    "        print(f\"Column '{column_name}' does not exist in the DataFrame.\")\n",
    "    \n",
    "    return df\n",
    "data = {\n",
    "    'A': [10, -5, 3, -2, 7],\n",
    "    'B': [-1, 6, -3, 8, -4]\n",
    "}\n",
    "df = pd.DataFrame(data)\n",
    "\n",
    "print(\"Original DataFrame:\")\n",
    "print(df)\n",
    "\n",
    "df_modifiedA = replace_negatives_with_zeros(df, 'A')\n",
    "\n",
    "print(\"\\nDataFrame after replacing negatives in column 'A':\")\n",
    "print(df_modifiedA)\n",
    "\n",
    "df_modifiedB = replace_negatives_with_zeros(df, 'B')\n",
    "\n",
    "print(\"\\nDataFrame after replacing negatives in column 'B':\")\n",
    "print(df_modifiedB)"
   ]
  },
  {
   "cell_type": "code",
   "execution_count": 70,
   "id": "c8067e85-a51b-4dde-a588-3a5d532e7216",
   "metadata": {},
   "outputs": [
    {
     "name": "stdout",
     "output_type": "stream",
     "text": [
      "Thirsd Elements 30\n"
     ]
    }
   ],
   "source": [
    "#Q26.Access the 3rd element from the given NumPy array. #\n",
    "\n",
    "arr = np.array([10, 20, 30, 40, 50])\n",
    "third_elemt = arr[2]\n",
    "print(\"Thirsd Elements\", third_elemt)"
   ]
  },
  {
   "cell_type": "code",
   "execution_count": 72,
   "id": "cce9c2bc-5839-4d5f-bc14-03c23441946d",
   "metadata": {},
   "outputs": [
    {
     "name": "stdout",
     "output_type": "stream",
     "text": [
      "Retrive 2D array 6\n"
     ]
    }
   ],
   "source": [
    "#Q27.Retrieve the element at index (1, 2) from the 2D NumPy array. #\n",
    "\n",
    "arr_2d = np.array([[1, 2, 3],\n",
    "                   [4, 5, 6],\n",
    "                   [7, 8, 9]])\n",
    "retrive_arr = arr_2d[1,2]\n",
    "print(\"Retrive 2D array\",retrive_arr)\n"
   ]
  },
  {
   "cell_type": "code",
   "execution_count": 73,
   "id": "8d923b03-87bf-47ff-a966-5ffdc47751cb",
   "metadata": {},
   "outputs": [
    {
     "name": "stdout",
     "output_type": "stream",
     "text": [
      "greater than 5 [3 2]\n"
     ]
    }
   ],
   "source": [
    "#Q28.Using boolean indexing, extract elements greater than 5 from the given NumPy array. #\n",
    "\n",
    "arr = np.array([3, 8, 2, 10, 5, 7])\n",
    "greater = arr > 5\n",
    "greater_array = arr[greater]\n",
    "print(\"greater than 5\",greater_array)"
   ]
  },
  {
   "cell_type": "code",
   "execution_count": 75,
   "id": "36883add-5f9b-4520-9a93-ead2660f8f82",
   "metadata": {},
   "outputs": [
    {
     "name": "stdout",
     "output_type": "stream",
     "text": [
      "slicing to extract [3 4 5 6]\n"
     ]
    }
   ],
   "source": [
    "#Q29. Perform basic slicing to extract elements from index 2 to 5 (inclusive) from the given NumPy array#\n",
    "\n",
    "arr = np.array([1, 2, 3, 4, 5, 6, 7, 8, 9])\n",
    "slicing_arr = arr[2:6]\n",
    "print(\"slicing to extract\",slicing_arr)"
   ]
  },
  {
   "cell_type": "code",
   "execution_count": 86,
   "id": "6938babe-afe8-4354-8811-c15c48a02de6",
   "metadata": {},
   "outputs": [
    {
     "name": "stdout",
     "output_type": "stream",
     "text": [
      "slicing to extract [[2 3]\n",
      " [5 6]\n",
      " [8 9]]\n"
     ]
    }
   ],
   "source": [
    "#Q30.Slice the 2D NumPy array to extract the sub-array `[[2, 3], [5, 6]]` from the given array #\n",
    "\n",
    "arr_2d = np.array([[1, 2, 3],\n",
    "                   [4, 5, 6],\n",
    "                   [7, 8, 9]])\n",
    "silicing_arr = arr_2d[0:3, 1:3]\n",
    "print(\"slicing to extract\",silicing_arr)"
   ]
  },
  {
   "cell_type": "code",
   "execution_count": 2,
   "id": "4b1888bd-9c95-4dfc-91bf-5a3fd1739737",
   "metadata": {},
   "outputs": [
    {
     "name": "stdout",
     "output_type": "stream",
     "text": [
      "Extracted elements: [2 6 7]\n"
     ]
    }
   ],
   "source": [
    "#Q31. Write a NumPy function to extract elements in specific order from a given 2D array based on indices provided in another array#\n",
    "\n",
    "def extract_elements(arr_2d, indices):\n",
    "    rows, cols = zip(*indices)\n",
    "    extracted_elements = arr_2d[rows, cols]\n",
    "    return extracted_elements\n",
    "arr_2d = np.array([[1, 2, 3],\n",
    "                   [4, 5, 6],\n",
    "                   [7, 8, 9]])\n",
    "indices = [(0, 1), (1, 2), (2, 0)]\n",
    "result = extract_elements(arr_2d, indices)\n",
    "print(\"Extracted elements:\", result)"
   ]
  },
  {
   "cell_type": "code",
   "execution_count": 9,
   "id": "ffe8bf8f-1106-4e23-a564-52133a263540",
   "metadata": {},
   "outputs": [
    {
     "name": "stdout",
     "output_type": "stream",
     "text": [
      "Greater Than [5 6 7 8]\n"
     ]
    }
   ],
   "source": [
    "#Q32.Create a NumPy function that filters elements greater than a threshold from a given 1D array using boolean indexing. #\n",
    "\n",
    "def filters_elements_greater(arr, threshold):\n",
    "    greater_than = arr > threshold\n",
    "    greater_array = arr[greater_than]\n",
    "    return greater_array\n",
    "\n",
    "arr = np.array([1,2,5,6,7,8])\n",
    "threshold = 2\n",
    "greater = filters_elements_greater(arr,threshold)\n",
    "print(\"Greater Than\", greater)\n",
    "\n"
   ]
  },
  {
   "cell_type": "code",
   "execution_count": 10,
   "id": "75652e3f-9def-4c79-8df1-fea460374fe0",
   "metadata": {},
   "outputs": [
    {
     "name": "stdout",
     "output_type": "stream",
     "text": [
      "Extracted elements: [ 6 16 19]\n"
     ]
    }
   ],
   "source": [
    "#Q33.Develop a NumPy function that extracts specific elements from a 3D array using indices provided in three separate arrays for each dimension#\n",
    "\n",
    "def extract_3d_elements(arr_3d, row_indices, col_indices, depth_indices):\n",
    "    extracted_elements = arr_3d[row_indices, col_indices, depth_indices]\n",
    "    return extracted_elements\n",
    "arr_3d = np.array([[[2, 2, 3],\n",
    "                    [3, 5, 6],\n",
    "                    [7, 8, 9]],\n",
    "                   \n",
    "                   [[12, 10, 12],\n",
    "                    [13, 14, 15],\n",
    "                    [16, 17, 18]],\n",
    "                   \n",
    "                   [[17, 19, 21],\n",
    "                    [22, 23, 24],\n",
    "                    [25, 26, 27]]])\n",
    "row_indices = np.array([0, 1, 2])\n",
    "col_indices = np.array([1, 2, 0])\n",
    "depth_indices = np.array([2, 0, 1])\n",
    "result = extract_3d_elements(arr_3d, row_indices, col_indices, depth_indices)\n",
    "print(\"Extracted elements:\", result)"
   ]
  },
  {
   "cell_type": "code",
   "execution_count": 12,
   "id": "14587ac4-17ea-40d9-9671-bd3ba954bb58",
   "metadata": {},
   "outputs": [
    {
     "name": "stdout",
     "output_type": "stream",
     "text": [
      "Filtered elements: [8 7]\n"
     ]
    }
   ],
   "source": [
    "#Q34.Write a NumPy function that returns elements from an array where both two conditions are satisfied using boolean indexing.\n",
    "\n",
    "def filter_elements(arr, condi1, condi2):\n",
    "    if isinstance(condi1, (int, float)):\n",
    "        condi1 = arr > condi1\n",
    "    if isinstance(condi2, (int, float)):\n",
    "        condi2 = arr < condi2\n",
    "    combined_condition = condi1 & condi2\n",
    "    filtered_elements = arr[combined_condition]\n",
    "    return filtered_elements\n",
    "arr = np.array([1, 5, 8, 12, 3, 7])\n",
    "condi1 = 5  \n",
    "condi2 = 10 \n",
    "result = filter_elements(arr, condi1, condi2)\n",
    "print(\"Filtered elements:\", result)"
   ]
  },
  {
   "cell_type": "code",
   "execution_count": 13,
   "id": "b51d4b78-6d25-43a0-8d23-677161a2e6c2",
   "metadata": {},
   "outputs": [
    {
     "name": "stdout",
     "output_type": "stream",
     "text": [
      "Extracted elements: [2 6 7]\n"
     ]
    }
   ],
   "source": [
    "#Q35. Create a NumPy function that extracts elements from a 2D array using row and column indices provided in separate arrays #\n",
    "\n",
    "def extract_elements_2d(arr_2d, row_indices, col_indices):\n",
    "    if len(row_indices) != len(col_indices):\n",
    "        raise ValueError(\"row_indices and col_indices must have the same length\")\n",
    "    extracted_elements = arr_2d[row_indices, col_indices]\n",
    "    return extracted_elements\n",
    "arr_2d = np.array([[1, 2, 3],\n",
    "                   [4, 5, 6],\n",
    "                   [7, 8, 9]])\n",
    "row_indices = np.array([0, 1, 2])\n",
    "col_indices = np.array([1, 2, 0])\n",
    "result = extract_elements_2d(arr_2d, row_indices, col_indices)\n",
    "print(\"Extracted elements:\", result)"
   ]
  },
  {
   "cell_type": "code",
   "execution_count": 15,
   "id": "0c86893b-97cf-4e4f-a615-4c5e9217d6dc",
   "metadata": {},
   "outputs": [
    {
     "name": "stdout",
     "output_type": "stream",
     "text": [
      "Original array: [[2 2 3]\n",
      " [3 5 2]\n",
      " [6 8 9]]\n",
      "Array after adding 5:\n",
      " [[ 7  7  8]\n",
      " [ 8 10  7]\n",
      " [11 13 14]]\n"
     ]
    }
   ],
   "source": [
    "#Q36.Given an array arr of shape (3, 3), add a scalar value of 5 to each element using NumPy broadcasting#\n",
    "\n",
    "arr = np.array([[2, 2, 3],\n",
    "                [3, 5, 2],\n",
    "                [6, 8, 9]])\n",
    "addition = arr + 5\n",
    "print(\"Original array:\", arr)\n",
    "print(\"Array after adding 5:\\n\", addition)"
   ]
  },
  {
   "cell_type": "code",
   "execution_count": 19,
   "id": "c838e592-a70b-415a-82b2-12f9284d674e",
   "metadata": {},
   "outputs": [
    {
     "name": "stdout",
     "output_type": "stream",
     "text": [
      "Multiplication of arr1 and arr2 [[[ 1  4  9]\n",
      "  [ 4 10 18]\n",
      "  [ 7 16 27]]]\n"
     ]
    }
   ],
   "source": [
    "#Q37.Consider two arrays arr1 of shape (1, 3) and arr2 of shape (3, 4). Multiply each row of arr2 by the corresponding element in arr1 using NumPy broadcasting.#\n",
    "\n",
    "arr1 = np.array([[1,2,3]])\n",
    "arr2 = np.array([[[1,2,3],\n",
    "                 [4,5,6],\n",
    "                 [7,8,9]]])\n",
    "multiply = arr1 * arr2\n",
    "print(\"Multiplication of arr1 and arr2\", multiply)"
   ]
  },
  {
   "cell_type": "code",
   "execution_count": 21,
   "id": "cd307509-1838-487c-b9c0-3dd3a1140fb6",
   "metadata": {},
   "outputs": [
    {
     "ename": "ValueError",
     "evalue": "operands could not be broadcast together with shapes (4,) (1,4,3) ",
     "output_type": "error",
     "traceback": [
      "\u001b[0;31m---------------------------------------------------------------------------\u001b[0m",
      "\u001b[0;31mValueError\u001b[0m                                Traceback (most recent call last)",
      "Cell \u001b[0;32mIn[21], line 8\u001b[0m\n\u001b[1;32m      3\u001b[0m arr1 \u001b[38;5;241m=\u001b[39m np\u001b[38;5;241m.\u001b[39marray([\u001b[38;5;241m1\u001b[39m,\u001b[38;5;241m2\u001b[39m,\u001b[38;5;241m3\u001b[39m,\u001b[38;5;241m4\u001b[39m])\n\u001b[1;32m      4\u001b[0m arr2 \u001b[38;5;241m=\u001b[39m np\u001b[38;5;241m.\u001b[39marray([[[\u001b[38;5;241m1\u001b[39m,\u001b[38;5;241m2\u001b[39m,\u001b[38;5;241m3\u001b[39m],\n\u001b[1;32m      5\u001b[0m                   [\u001b[38;5;241m4\u001b[39m,\u001b[38;5;241m5\u001b[39m,\u001b[38;5;241m6\u001b[39m],\n\u001b[1;32m      6\u001b[0m                   [\u001b[38;5;241m7\u001b[39m,\u001b[38;5;241m8\u001b[39m,\u001b[38;5;241m9\u001b[39m],\n\u001b[1;32m      7\u001b[0m                   [\u001b[38;5;241m10\u001b[39m,\u001b[38;5;241m11\u001b[39m,\u001b[38;5;241m12\u001b[39m]]])\n\u001b[0;32m----> 8\u001b[0m add1 \u001b[38;5;241m=\u001b[39m \u001b[43marr1\u001b[49m\u001b[43m \u001b[49m\u001b[38;5;241;43m+\u001b[39;49m\u001b[43m \u001b[49m\u001b[43marr2\u001b[49m\n\u001b[1;32m      9\u001b[0m \u001b[38;5;28mprint\u001b[39m(\u001b[38;5;124m\"\u001b[39m\u001b[38;5;124mAddition of arr1 and arr2\u001b[39m\u001b[38;5;124m\"\u001b[39m,add1)\n",
      "\u001b[0;31mValueError\u001b[0m: operands could not be broadcast together with shapes (4,) (1,4,3) "
     ]
    }
   ],
   "source": [
    "#Q38.Given a 1D array arr1 of shape (1, 4) and a 2D array arr2 of shape (4, 3), add arr1 to each row of arr2 using NumPy broadcasting.#\n",
    "\n",
    "arr1 = np.array([1,2,3,4])\n",
    "arr2 = np.array([[[1,2,3],\n",
    "                  [4,5,6],\n",
    "                  [7,8,9],\n",
    "                  [10,11,12]]])\n",
    "\n",
    "add1 = arr1 + arr2\n",
    "print(\"Addition of arr1 and arr2\",add1)"
   ]
  },
  {
   "cell_type": "code",
   "execution_count": 23,
   "id": "eb5c711a-a0bb-439d-a4e7-a587fa84e45f",
   "metadata": {},
   "outputs": [
    {
     "name": "stdout",
     "output_type": "stream",
     "text": [
      "rshape [[1]\n",
      " [2]\n",
      " [3]\n",
      " [4]]\n",
      "Addition of arr1 and arr2 [[[ 2  3  4]\n",
      "  [ 6  7  8]\n",
      "  [10 11 12]\n",
      "  [14 15 16]]]\n"
     ]
    }
   ],
   "source": [
    "arr1 = np.array([1,2,3,4])\n",
    "arr2 = np.array([[[1,2,3],\n",
    "                  [4,5,6],\n",
    "                  [7,8,9],\n",
    "                  [10,11,12]]])\n",
    "reshape = np.reshape(arr1, (4,1))\n",
    "print(\"reshape\",reshape)\n",
    "addition = reshape + arr2\n",
    "print(\"Addition of arr1 and arr2\",addition)"
   ]
  },
  {
   "cell_type": "code",
   "execution_count": 24,
   "id": "7946b56a-656e-4e81-8cd9-d885c5f3eb32",
   "metadata": {},
   "outputs": [
    {
     "name": "stdout",
     "output_type": "stream",
     "text": [
      "Addition [[5 6 7]\n",
      " [6 7 8]\n",
      " [7 8 9]]\n"
     ]
    }
   ],
   "source": [
    "#Q39. Consider two arrays arr1 of shape (3, 1) and arr2 of shape (1, 3). Add these arrays using NumPy broadcasting#\n",
    "\n",
    "arr1 = np.array([[1],\n",
    "                [2],\n",
    "                [3]])\n",
    "arr2 = np.array([[4,5,6]])\n",
    "add = arr1 + arr2\n",
    "print(\"Addition\",add)"
   ]
  },
  {
   "cell_type": "code",
   "execution_count": 31,
   "id": "634a1087-8236-44c6-b478-5c527543bf4c",
   "metadata": {},
   "outputs": [
    {
     "ename": "ValueError",
     "evalue": "cannot select an axis to squeeze out which has size not equal to one",
     "output_type": "error",
     "traceback": [
      "\u001b[0;31m---------------------------------------------------------------------------\u001b[0m",
      "\u001b[0;31mValueError\u001b[0m                                Traceback (most recent call last)",
      "Cell \u001b[0;32mIn[31], line 16\u001b[0m\n\u001b[1;32m     13\u001b[0m multiplication \u001b[38;5;241m=\u001b[39m arr1[:, :, np\u001b[38;5;241m.\u001b[39mnewaxis] \u001b[38;5;241m*\u001b[39m arr2_broadcasted  \u001b[38;5;66;03m# Shape (2, 3, 2)\u001b[39;00m\n\u001b[1;32m     15\u001b[0m \u001b[38;5;66;03m# Squeeze the result to get the final shape\u001b[39;00m\n\u001b[0;32m---> 16\u001b[0m result \u001b[38;5;241m=\u001b[39m \u001b[43mnp\u001b[49m\u001b[38;5;241;43m.\u001b[39;49m\u001b[43msqueeze\u001b[49m\u001b[43m(\u001b[49m\u001b[43mmultiplication\u001b[49m\u001b[43m,\u001b[49m\u001b[43m \u001b[49m\u001b[43maxis\u001b[49m\u001b[38;5;241;43m=\u001b[39;49m\u001b[38;5;241;43m2\u001b[39;49m\u001b[43m)\u001b[49m  \u001b[38;5;66;03m# Shape (2, 3)\u001b[39;00m\n\u001b[1;32m     18\u001b[0m \u001b[38;5;28mprint\u001b[39m(\u001b[38;5;124m\"\u001b[39m\u001b[38;5;124mMultiplication result:\u001b[39m\u001b[38;5;130;01m\\n\u001b[39;00m\u001b[38;5;124m\"\u001b[39m, result)\n",
      "File \u001b[0;32m<__array_function__ internals>:180\u001b[0m, in \u001b[0;36msqueeze\u001b[0;34m(*args, **kwargs)\u001b[0m\n",
      "File \u001b[0;32m/opt/conda/lib/python3.10/site-packages/numpy/core/fromnumeric.py:1545\u001b[0m, in \u001b[0;36msqueeze\u001b[0;34m(a, axis)\u001b[0m\n\u001b[1;32m   1543\u001b[0m     \u001b[38;5;28;01mreturn\u001b[39;00m squeeze()\n\u001b[1;32m   1544\u001b[0m \u001b[38;5;28;01melse\u001b[39;00m:\n\u001b[0;32m-> 1545\u001b[0m     \u001b[38;5;28;01mreturn\u001b[39;00m \u001b[43msqueeze\u001b[49m\u001b[43m(\u001b[49m\u001b[43maxis\u001b[49m\u001b[38;5;241;43m=\u001b[39;49m\u001b[43maxis\u001b[49m\u001b[43m)\u001b[49m\n",
      "\u001b[0;31mValueError\u001b[0m: cannot select an axis to squeeze out which has size not equal to one"
     ]
    }
   ],
   "source": [
    "#Q40. Given arrays arr1 of shape (2, 3) and arr2 of shape (2, 2), perform multiplication using NumPy broadcasting. Handle the shape incompatibility#\n",
    "\n",
    "arr1 = np.array([[1,2,3],\n",
    "                 [4,5,6]])\n",
    "arr2 = np.array([[1,2],\n",
    "                 [3,4]])\n",
    "arr2_broadcasted = np.reshape(arr2, (2, 1, 2)) \n",
    "arr2_broadcasted = np.repeat(arr2_broadcasted, 3, axis=1) \n",
    "multiplication = arr1[:, :, np.newaxis] * arr2_broadcasted \n",
    "result = np.squeeze(multiplication, axis=2) \n",
    "print(\"Multiplication result:\\n\", result)"
   ]
  },
  {
   "cell_type": "code",
   "execution_count": 37,
   "id": "bc7e4f5e-56ad-4b97-b552-78358a4301db",
   "metadata": {},
   "outputs": [
    {
     "name": "stdout",
     "output_type": "stream",
     "text": [
      "column wise mean [2.5 3.5 4.5]\n"
     ]
    }
   ],
   "source": [
    "#Q41.  Calculate column wise mean for the given array#\n",
    "\n",
    "arr = np.array([[1, 2, 3], \n",
    "                [4, 5, 6]])\n",
    "column_wise_mean = np.mean(arr,axis=0)\n",
    "print(\"column wise mean\",column_wise_mean)\n"
   ]
  },
  {
   "cell_type": "code",
   "execution_count": 41,
   "id": "af678bcd-38ce-4e36-8523-9865ae255591",
   "metadata": {},
   "outputs": [
    {
     "name": "stdout",
     "output_type": "stream",
     "text": [
      "Maximum value in each row [3 6]\n"
     ]
    }
   ],
   "source": [
    "#Q42. Find maximum value in each row of the given array:#\n",
    "\n",
    "arr = np.array([[1, 2, 3], \n",
    "                [4, 5, 6]])\n",
    "maximum_value = np.max(arr,axis = 1)\n",
    "print(\"Maximum value in each row\",maximum_value)"
   ]
  },
  {
   "cell_type": "code",
   "execution_count": 43,
   "id": "821e9588-dce0-4c2e-8740-389e9e294135",
   "metadata": {},
   "outputs": [
    {
     "name": "stdout",
     "output_type": "stream",
     "text": [
      "maximum value in each column [1 1 1]\n"
     ]
    }
   ],
   "source": [
    "#Q43. For the given array, find indices of maximum value in each column.#\n",
    "\n",
    "arr = np.array([[1, 2, 3], \n",
    "                [4, 5, 6]])\n",
    "indices_maximum_col_value = np.argmax(arr,axis = 0)\n",
    "print(\"maximum value in each column\",indices_maximum_col_value)\n"
   ]
  },
  {
   "cell_type": "code",
   "execution_count": 52,
   "id": "1f6287cb-67a6-41ab-a064-f61bf8b3631a",
   "metadata": {},
   "outputs": [
    {
     "name": "stdout",
     "output_type": "stream",
     "text": [
      "Moving sum along rows: [[ 3  5]\n",
      " [ 9 11]]\n"
     ]
    }
   ],
   "source": [
    "#Q44. For the given array, apply custom function to calculate moving sum along rows#\n",
    "\n",
    "def moving_sum(arr, window_size):\n",
    "    if window_size <= 0 or window_size > arr.shape[1]:\n",
    "        raise ValueError(\"Window size must be a positive integer and less than or equal to the number of columns.\")\n",
    "    result = []\n",
    "    for row in arr:\n",
    "        row_sum = np.convolve(row, np.ones(window_size, dtype=int), mode='valid')\n",
    "        result.append(row_sum)\n",
    "    return np.array(result)\n",
    "arr = np.array([[1, 2, 3], \n",
    "                [4, 5, 6]])\n",
    "window_size = 2\n",
    "moving_sum_result = moving_sum(arr, window_size)\n",
    "print(\"Moving sum along rows:\", moving_sum_result)\n"
   ]
  },
  {
   "cell_type": "code",
   "execution_count": 55,
   "id": "6cba9a9f-8706-46ba-8e04-75d1d9ccce26",
   "metadata": {},
   "outputs": [
    {
     "name": "stdout",
     "output_type": "stream",
     "text": [
      "Even elements in each column [False False False]\n"
     ]
    }
   ],
   "source": [
    "#Q45.  In the given array, check if all elements in each column are even#\n",
    "\n",
    "arr = np.array([[2, 4, 6], \n",
    "                [3, 5, 7]])\n",
    "even_mask = (arr % 2 == 0)\n",
    "even_elements = np.all(even_mask, axis = 0)\n",
    "print(\"Even elements in each column\" ,even_elements)"
   ]
  },
  {
   "cell_type": "code",
   "execution_count": 59,
   "id": "a3ebc469-3d36-4a0d-ad6d-522a11c3d3d8",
   "metadata": {},
   "outputs": [
    {
     "name": "stdout",
     "output_type": "stream",
     "text": [
      "Reshaped matrix:\n",
      " [[1 2 3]\n",
      " [4 5 6]]\n"
     ]
    }
   ],
   "source": [
    "#Q46.Given a NumPy array arr, reshape it into a matrix of dimensions `m` rows and `n` columns. Return the reshaped matrix. #\n",
    "\n",
    "import numpy as np\n",
    "\n",
    "def reshape_array(original_array, m, n):\n",
    "    if original_array.size != m * n:\n",
    "        raise ValueError(\"The total number of elements does not match the target shape.\")\n",
    "    reshaped_matrix = original_array.reshape(m, n)\n",
    "    return reshaped_matrix\n",
    "original_array = np.array([1, 2, 3, 4, 5, 6])\n",
    "m = 2  \n",
    "n = 3 \n",
    "reshaped_matrix = reshape_array(original_array, m, n)\n",
    "\n",
    "print(\"Reshaped matrix:\\n\", reshaped_matrix)\n"
   ]
  },
  {
   "cell_type": "code",
   "execution_count": 61,
   "id": "8ddcaf66-dec1-46aa-ba84-0f481d33132c",
   "metadata": {},
   "outputs": [
    {
     "name": "stdout",
     "output_type": "stream",
     "text": [
      "Flattened array: [1 2 3 4 5 6]\n"
     ]
    }
   ],
   "source": [
    "#Q47.  Create a function that takes a matrix as input and returns the flattened array.#\n",
    "\n",
    "def flatten_matrix(matrix):\n",
    "    flattened_array = matrix.flatten()\n",
    "    return flattened_array\n",
    "\n",
    "input_matrix = np.array([[1, 2, 3], \n",
    "                         [4, 5, 6]])\n",
    "flattened_array = flatten_matrix(input_matrix)\n",
    "print(\"Flattened array:\", flattened_array)"
   ]
  },
  {
   "cell_type": "code",
   "execution_count": 69,
   "id": "681d3c38-8c83-4212-a727-d17c883c9246",
   "metadata": {},
   "outputs": [
    {
     "name": "stdout",
     "output_type": "stream",
     "text": [
      "Concatinate coulmn wise [[1 2]\n",
      " [3 4]\n",
      " [5 6]\n",
      " [7 8]]\n",
      "Concatinate coulmn wise [[1 2 5 6]\n",
      " [3 4 7 8]]\n"
     ]
    }
   ],
   "source": [
    "#Q48. Write a function that concatenates two given arrays along a specified axis#\n",
    "\n",
    "def concatenate_array(array1, array2, axis=0):\n",
    "    concatenates_array = np.concatenate((array1, array2), axis=axis)\n",
    "    return concatenates_array\n",
    "array1 = np.array([[1, 2], \n",
    "                   [3, 4]])\n",
    "array2 = np.array([[5, 6], \n",
    "                   [7, 8]])\n",
    "concatinate_axis0 = concatenate_array(array1, array2, axis=0)\n",
    "concatinate_axis1 = concatenate_array(array1, array2, axis=1)\n",
    "\n",
    "print(\"Concatinate coulmn wise\",concatinate_axis0)\n",
    "print(\"Concatinate coulmn wise\",concatinate_axis1)"
   ]
  },
  {
   "cell_type": "code",
   "execution_count": 71,
   "id": "107ac158-32c8-452b-b387-73240a82e71b",
   "metadata": {},
   "outputs": [
    {
     "name": "stdout",
     "output_type": "stream",
     "text": [
      "Sub arrays along axis =0\n",
      " [array([[1, 2, 3]]), array([[4, 5, 6]]), array([[7, 8, 9]])]\n"
     ]
    }
   ],
   "source": [
    "#Q49. Create a function that splits an array into multiple sub-arrays along a specified axis#\n",
    "\n",
    "def split_array(array,indices,axis =0):\n",
    "    sub_arrays = np.split(array,indices,axis = axis)\n",
    "    return sub_arrays\n",
    "original_array = np.array([[1, 2, 3], \n",
    "                           [4, 5, 6], \n",
    "                           [7, 8, 9]])\n",
    "sub_arrays =split_array(original_array,[1,2],axis =0)\n",
    "print(\"Sub arrays along axis =0\\n\", sub_arrays)"
   ]
  },
  {
   "cell_type": "code",
   "execution_count": 88,
   "id": "f9e7db1a-ba7b-48d9-8337-93718411fd04",
   "metadata": {},
   "outputs": [
    {
     "name": "stdout",
     "output_type": "stream",
     "text": [
      "Modified array after insertion and deletion: [ 1 10  4 11  5]\n"
     ]
    }
   ],
   "source": [
    "#Q50. Write a function that inserts and then deletes elements from a given array at specified indices#\n",
    "\n",
    "def insert_and_delete_elements(array, indices_insert, values_insert, indices_delete):\n",
    "    array_to_inserts = np.insert(array, indices_insert, values_insert)\n",
    "    array_after_deletion = np.delete(array_to_inserts, indices_delete)\n",
    "    return array_after_deletion\n",
    "original_array = np.array([1, 2, 3, 4, 5])\n",
    "indices_to_insert = [2, 4]  \n",
    "values_to_insert = [10, 11] \n",
    "indices_to_delete = [1, 3]   \n",
    "modified_array = insert_and_delete_elements(original_array, indices_to_insert, values_to_insert, indices_to_delete)\n",
    "\n",
    "print(\"Modified array after insertion and deletion:\", modified_array)"
   ]
  },
  {
   "cell_type": "code",
   "execution_count": null,
   "id": "b4696c24-d0a6-4d55-8b9c-7e978aecdb6c",
   "metadata": {},
   "outputs": [],
   "source": []
  }
 ],
 "metadata": {
  "kernelspec": {
   "display_name": "Python 3 (ipykernel)",
   "language": "python",
   "name": "python3"
  },
  "language_info": {
   "codemirror_mode": {
    "name": "ipython",
    "version": 3
   },
   "file_extension": ".py",
   "mimetype": "text/x-python",
   "name": "python",
   "nbconvert_exporter": "python",
   "pygments_lexer": "ipython3",
   "version": "3.10.8"
  }
 },
 "nbformat": 4,
 "nbformat_minor": 5
}
