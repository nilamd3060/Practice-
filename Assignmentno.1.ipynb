{
 "cells": [
  {
   "cell_type": "code",
   "execution_count": 14,
   "id": "55d20327-6d7e-4b7d-9bff-ec308d3f7725",
   "metadata": {},
   "outputs": [
    {
     "name": "stdout",
     "output_type": "stream",
     "text": [
      "eniltsaL\n"
     ]
    }
   ],
   "source": [
    "#1 .Write code to reverse string\n",
    "\n",
    "s1 = \"Lastline\"\n",
    "s = s1[::-1]\n",
    "print(s)\n",
    "\n"
   ]
  },
  {
   "cell_type": "code",
   "execution_count": 18,
   "id": "12129110-62f5-4ac2-8a31-d1a9f522ee89",
   "metadata": {},
   "outputs": [
    {
     "name": "stdout",
     "output_type": "stream",
     "text": [
      "4\n"
     ]
    }
   ],
   "source": [
    "#2.Write code to count the number of vowel in string\n",
    "\n",
    "str2 = \"I am student\"\n",
    "v1 = \"aAeEiIoOuU\"\n",
    "count = sum(str2.count(vowel) for vowel in v1)\n",
    "print(count)"
   ]
  },
  {
   "cell_type": "code",
   "execution_count": 22,
   "id": "2f8316de-31da-4a2e-b427-1d61778a4f4a",
   "metadata": {},
   "outputs": [
    {
     "name": "stdout",
     "output_type": "stream",
     "text": [
      "1\n"
     ]
    }
   ],
   "source": [
    "str2 = \"I am student\"\n",
    "v1 = \"aeiou\"\n",
    "count = sum(str2.count(vowel) for vowel in v1.upper())\n",
    "print(count)"
   ]
  },
  {
   "cell_type": "code",
   "execution_count": 23,
   "id": "145250ee-b334-411c-905c-2ae15af60af0",
   "metadata": {},
   "outputs": [
    {
     "name": "stdout",
     "output_type": "stream",
     "text": [
      "3\n"
     ]
    }
   ],
   "source": [
    "str2 = \"I am student\"\n",
    "v1 = \"AEIOU\"\n",
    "count = sum(str2.count(vowel) for vowel in v1.lower())\n",
    "print(count)"
   ]
  },
  {
   "cell_type": "code",
   "execution_count": 44,
   "id": "d00eef2e-a758-47e8-bcb9-e939a74a808c",
   "metadata": {},
   "outputs": [
    {
     "name": "stdin",
     "output_type": "stream",
     "text": [
      "Enter the string  I am student\n"
     ]
    },
    {
     "name": "stdout",
     "output_type": "stream",
     "text": [
      "4\n"
     ]
    }
   ],
   "source": [
    "str2 = str(input(\"Enter the string \"))\n",
    "v1 = \"aAeEiIoOuU\"\n",
    "count = sum(str2.count(vowel) for vowel in v1)\n",
    "print(count)"
   ]
  },
  {
   "cell_type": "code",
   "execution_count": 33,
   "id": "3aa01883-df56-4972-a6de-f3e54caa1998",
   "metadata": {},
   "outputs": [
    {
     "name": "stdout",
     "output_type": "stream",
     "text": [
      "String is palindrome\n"
     ]
    }
   ],
   "source": [
    "#3.Write code to check if given string is palindrome or not = if we read string from backword it will be same as original string\n",
    "\n",
    "#using function \n",
    "def palindrome1(a):\n",
    "    return a == a[::-1]\n",
    "a = \"bob\"\n",
    "palin = palindrome1(a)\n",
    "if palin:\n",
    "        print(\"String is palindrome\")\n",
    "else:\n",
    "        print(\"String is not palindrome\")\n",
    "        \n"
   ]
  },
  {
   "cell_type": "code",
   "execution_count": 34,
   "id": "19eb8266-bca4-4554-b8b1-854b9615ec17",
   "metadata": {},
   "outputs": [
    {
     "name": "stdout",
     "output_type": "stream",
     "text": [
      "String is palindrome\n"
     ]
    }
   ],
   "source": [
    "def palindrome1(a):\n",
    "    return a == a[::-1]\n",
    "a = \"tat\"\n",
    "palin = palindrome1(a)\n",
    "if palin:\n",
    "        print(\"String is palindrome\")\n",
    "else:\n",
    "        print(\"String is not palindrome\")\n",
    "      "
   ]
  },
  {
   "cell_type": "code",
   "execution_count": 35,
   "id": "81390d11-4e99-4d73-a71a-dd7feede2331",
   "metadata": {},
   "outputs": [
    {
     "name": "stdout",
     "output_type": "stream",
     "text": [
      "String is not palindrome\n"
     ]
    }
   ],
   "source": [
    "def palindrome1(a):\n",
    "    return a == a[::-1]\n",
    "a = \"skills\"\n",
    "palin = palindrome1(a)\n",
    "if palin:\n",
    "        print(\"String is palindrome\")\n",
    "else:\n",
    "        print(\"String is not palindrome\")\n",
    "      "
   ]
  },
  {
   "cell_type": "code",
   "execution_count": 41,
   "id": "ba4216c2-bdc8-437e-8c0b-79fbe9900b12",
   "metadata": {},
   "outputs": [
    {
     "name": "stdin",
     "output_type": "stream",
     "text": [
      "Enter the string: tat\n"
     ]
    },
    {
     "name": "stdout",
     "output_type": "stream",
     "text": [
      "String is palindrome\n"
     ]
    }
   ],
   "source": [
    "#using function with user input\n",
    "def palindrome1(a):\n",
    "    return a == a[::-1]\n",
    "a = str(input(\"Enter the string:\"))\n",
    "palin = palindrome1(a)\n",
    "if palin:\n",
    "        print(\"String is palindrome\")\n",
    "else:\n",
    "        print(\"String is not palindrome\")"
   ]
  },
  {
   "cell_type": "code",
   "execution_count": 50,
   "id": "722443ff-9a5d-42d7-9b47-88e53a83b9b3",
   "metadata": {},
   "outputs": [
    {
     "name": "stdout",
     "output_type": "stream",
     "text": [
      "string is not anagrams\n"
     ]
    }
   ],
   "source": [
    "#4.Write code to check if two given string are anagrams of each other\n",
    "\n",
    "a1 = \"Practice\"\n",
    "b1 = \"PAPER\"\n",
    "a1.lower()\n",
    "b1.lower()\n",
    "if sorted(a1) == sorted(b1):\n",
    "    print(\"string is anagrams\")\n",
    "else:\n",
    "    print(\"string is not anagrams\")\n"
   ]
  },
  {
   "cell_type": "code",
   "execution_count": 52,
   "id": "6f5c2f42-bdb1-487a-b375-cd7d766cffe1",
   "metadata": {},
   "outputs": [
    {
     "name": "stdout",
     "output_type": "stream",
     "text": [
      "string is anagrams\n"
     ]
    }
   ],
   "source": [
    "a1 = \"charu\"\n",
    "b1 = \"rucha\"\n",
    "a1.lower()\n",
    "b1.lower()\n",
    "if sorted(a1) == sorted(b1):\n",
    "    print(\"string is anagrams\")\n",
    "else:\n",
    "    print(\"string is not anagrams\")"
   ]
  },
  {
   "cell_type": "code",
   "execution_count": 53,
   "id": "06f9707c-0d8d-426b-abf8-58df68e4443a",
   "metadata": {},
   "outputs": [
    {
     "name": "stdout",
     "output_type": "stream",
     "text": [
      "string is anagrams\n"
     ]
    }
   ],
   "source": [
    "a1 = \"charu\"\n",
    "b1 = \"rucha\"\n",
    "if sorted(a1.lower()) == sorted(b1.lower()):\n",
    "    print(\"string is anagrams\")\n",
    "else:\n",
    "    print(\"string is not anagrams\")"
   ]
  },
  {
   "cell_type": "code",
   "execution_count": 65,
   "id": "20bffd23-4079-458d-85fd-e9f039c40f13",
   "metadata": {},
   "outputs": [
    {
     "name": "stdout",
     "output_type": "stream",
     "text": [
      "string is not anagrams\n"
     ]
    }
   ],
   "source": [
    "a1 = \"paPer\"\n",
    "b1 = \"Design\"\n",
    "if sorted(a1.lower()) == sorted(b1.lower()):\n",
    "    print(\"string is anagrams\")\n",
    "else:\n",
    "    print(\"string is not anagrams\")"
   ]
  },
  {
   "cell_type": "code",
   "execution_count": 1,
   "id": "ffe80784-1319-4b46-9cd5-b68f72018669",
   "metadata": {},
   "outputs": [
    {
     "name": "stdout",
     "output_type": "stream",
     "text": [
      "No.of occurance of substring: 2\n",
      "No.of occurance of substring: 2\n"
     ]
    }
   ],
   "source": [
    "#5.Write code to find all occurrence of given substring within another string\n",
    "\n",
    "c = \"permisSion needS to be granted\"\n",
    "substring  = \"i\"\n",
    "d = c.count(substring)\n",
    "print(\"No.of occurance of substring:\", d)\n",
    "substring = \"I\"\n",
    "e = c.count(substring)\n",
    "print(\"No.of occurance of substring:\", e)\n",
    "\n"
   ]
  },
  {
   "cell_type": "code",
   "execution_count": 8,
   "id": "31ad658b-7625-44df-95c7-2e1aa8c51d38",
   "metadata": {},
   "outputs": [
    {
     "name": "stdin",
     "output_type": "stream",
     "text": [
      "Enter substring : s\n"
     ]
    },
    {
     "name": "stdout",
     "output_type": "stream",
     "text": [
      "No.of occurance of substring: 1\n",
      "No.of occurance of substring: 2\n"
     ]
    }
   ],
   "source": [
    "c1 = \"permIsSion needS to be granted\"\n",
    "substring  = input(\"Enter substring :\")\n",
    "d1 = c1.count(substring.lower())\n",
    "print(\"No.of occurance of substring:\", d1)\n",
    "e1 = c1.count(substring.upper())\n",
    "print(\"No.of occurance of substring:\", e1)"
   ]
  },
  {
   "cell_type": "code",
   "execution_count": 20,
   "id": "672a2971-58fb-4c38-8aff-1cd0eb76c582",
   "metadata": {},
   "outputs": [
    {
     "name": "stdout",
     "output_type": "stream",
     "text": [
      "Compressed string: a2b1c5a3\n"
     ]
    }
   ],
   "source": [
    "#6.  Write code to perform bsic string compression using the count of repeated character\n",
    "\n",
    "def compress_string(input_string):\n",
    "    compressed_string = \"\"\n",
    "    count = 1\n",
    "    \n",
    "    # Handle empty string case\n",
    "    if not input_string:\n",
    "        return compressed_string\n",
    "    \n",
    "    # Iterate through the string, starting from the second character\n",
    "    for i in range(1, len(input_string)):\n",
    "        if input_string[i] == input_string[i - 1]:\n",
    "            # Increment count if current character is the same as previous\n",
    "            count += 1\n",
    "        else:\n",
    "            # Append character and count to the compressed string\n",
    "            compressed_string += input_string[i - 1] + str(count)\n",
    "            count = 1\n",
    "    \n",
    "    # Append the last character and count\n",
    "    compressed_string += input_string[-1] + str(count)\n",
    "    \n",
    "    # Return the compressed string only if it is shorter than the original string\n",
    "    return compressed_string if len(compressed_string) < len(input_string) else input_string\n",
    "\n",
    "# Example usage:\n",
    "input_string = \"aabcccccaaa\"\n",
    "compressed = compress_string(input_string)\n",
    "print(\"Compressed string:\", compressed)"
   ]
  },
  {
   "cell_type": "code",
   "execution_count": 1,
   "id": "c10c9561-d785-4f47-972c-b77f9c33584e",
   "metadata": {},
   "outputs": [
    {
     "name": "stdout",
     "output_type": "stream",
     "text": [
      "All characters are unique: True\n"
     ]
    }
   ],
   "source": [
    "#7 : Write code to determine if string having all unique character\n",
    "\n",
    "\n",
    "def unique_characters(input_string):\n",
    " \n",
    "    encountered = set()\n",
    "    for char in input_string:\n",
    "      \n",
    "        if char in encountered:\n",
    "            return False\n",
    "        \n",
    "        encountered.add(char)\n",
    "    return True\n",
    "\n",
    "input_string = \"abcdefg\"\n",
    "result = unique_characters(input_string)\n",
    "print(\"All characters are unique:\", result)"
   ]
  },
  {
   "cell_type": "code",
   "execution_count": 37,
   "id": "92b79e8a-9bd8-4dba-aebe-bd48222f0a19",
   "metadata": {},
   "outputs": [
    {
     "name": "stdout",
     "output_type": "stream",
     "text": [
      "PRACTICE\n"
     ]
    }
   ],
   "source": [
    "#8 : Write code to convert given string to uppercase or lowercase\n",
    "\n",
    "g = \"Practice\"\n",
    "print(g.upper())\n"
   ]
  },
  {
   "cell_type": "code",
   "execution_count": 38,
   "id": "4632b41f-8128-469e-9167-d4fb3e033c24",
   "metadata": {},
   "outputs": [
    {
     "name": "stdout",
     "output_type": "stream",
     "text": [
      "practice\n"
     ]
    }
   ],
   "source": [
    "g = \"Practice\"\n",
    "print(g.lower())"
   ]
  },
  {
   "cell_type": "code",
   "execution_count": 39,
   "id": "c532fb84-2bd5-4e0f-899c-509f439ada64",
   "metadata": {},
   "outputs": [
    {
     "name": "stdin",
     "output_type": "stream",
     "text": [
      "Enter string: Paper\n"
     ]
    },
    {
     "name": "stdout",
     "output_type": "stream",
     "text": [
      "upper case: PAPER\n",
      "upper case: paper\n"
     ]
    }
   ],
   "source": [
    "g = input(\"Enter string:\")\n",
    "print(\"upper case:\",g.upper())\n",
    "print(\"upper case:\",g.lower())"
   ]
  },
  {
   "cell_type": "code",
   "execution_count": 14,
   "id": "613805cf-7bb7-4286-afb2-884a6ffe206b",
   "metadata": {},
   "outputs": [
    {
     "name": "stdin",
     "output_type": "stream",
     "text": [
      "Enter the string permission needs to be granted\n"
     ]
    },
    {
     "name": "stdout",
     "output_type": "stream",
     "text": [
      "lenght of the string  5\n"
     ]
    }
   ],
   "source": [
    "#9 : Write code to count the number of words in string\n",
    "\n",
    "k = input(\"Enter the string\")\n",
    "print(\"lenght of the string \", len(k.split())) \n"
   ]
  },
  {
   "cell_type": "code",
   "execution_count": 32,
   "id": "935e8618-d1ad-44fe-b801-6daed12386ec",
   "metadata": {},
   "outputs": [
    {
     "name": "stdin",
     "output_type": "stream",
     "text": [
      "Enter First string: I am Nikita\n",
      "Enter Second sting: I live at Punjab\n"
     ]
    },
    {
     "name": "stdout",
     "output_type": "stream",
     "text": [
      "Concatination: I am Nikita I live at Punjab\n"
     ]
    }
   ],
   "source": [
    "#10 : Write code to cancatinate two strings without using the + operator\n",
    "\n",
    "txt  = input(\"Enter First string:\")\n",
    "txt1 = input(\"Enter Second sting:\")\n",
    "txt2 = f'{txt} {txt1}'\n",
    "print(\"Concatination:\",txt2)"
   ]
  },
  {
   "cell_type": "code",
   "execution_count": 2,
   "id": "7d9d7eb8-933e-46d8-b47e-237f9ead9f72",
   "metadata": {},
   "outputs": [
    {
     "data": {
      "text/plain": [
       "2"
      ]
     },
     "execution_count": 2,
     "metadata": {},
     "output_type": "execute_result"
    }
   ],
   "source": [
    "#11 : Write code to remove all occurrence of specific element from list\n",
    "\n",
    "lis = [20,45,66,40,200,78,54,68,98,65,78,20,48]\n",
    "lis.count(20)"
   ]
  },
  {
   "cell_type": "code",
   "execution_count": 18,
   "id": "70f12959-dbf6-4ad7-8c39-883579944e5b",
   "metadata": {},
   "outputs": [
    {
     "name": "stdout",
     "output_type": "stream",
     "text": [
      "List after removing all occurrences of 2 : [1, 3, 4, 5]\n"
     ]
    }
   ],
   "source": [
    "def remove_element(input_list, element):\n",
    "    return [x for x in input_list if x != element]\n",
    "\n",
    "# Example usage:\n",
    "input_list = [1, 2, 3, 4, 2, 5, 2]\n",
    "element_to_remove = 2\n",
    "result_list = remove_element(input_list, element_to_remove)\n",
    "print(\"List after removing all occurrences of\", element_to_remove, \":\", result_list)"
   ]
  },
  {
   "cell_type": "code",
   "execution_count": 9,
   "id": "a2d22a3b-72fa-485e-a74a-5217bcb31d74",
   "metadata": {},
   "outputs": [
    {
     "name": "stdout",
     "output_type": "stream",
     "text": [
      "Secomd largest number : 98\n"
     ]
    }
   ],
   "source": [
    "#12.  Implement code to find the second largest number in given list of integer\n",
    "\n",
    "lis = [20,45,66,40,200,78,54,68,98,65,78,20,48]\n",
    "a = list(set(lis))\n",
    "a.sort()\n",
    "print(\"Secomd largest number :\", a[-2])"
   ]
  },
  {
   "cell_type": "code",
   "execution_count": 8,
   "id": "32d47687-2dea-4a2c-8836-ad0478c2d2b4",
   "metadata": {},
   "outputs": [
    {
     "data": {
      "text/plain": [
       "2"
      ]
     },
     "execution_count": 8,
     "metadata": {},
     "output_type": "execute_result"
    }
   ],
   "source": [
    "#13 : Create code to count the occurrencec of the element in list and return a dictionary with elements as keys and their counts as values\n",
    "\n",
    "lis = [20,45,66,40,200,78,54,68,98,65,78,20,48]\n",
    "\n",
    "lis.count(20)"
   ]
  },
  {
   "cell_type": "code",
   "execution_count": 3,
   "id": "32bfe979-fa37-46eb-8ba1-107b25a5b7cd",
   "metadata": {},
   "outputs": [
    {
     "name": "stdout",
     "output_type": "stream",
     "text": [
      "{20: 2, 45: 1, 66: 1, 40: 1, 200: 1, 78: 2, 54: 1, 68: 1, 98: 1, 65: 1, 48: 1}\n"
     ]
    }
   ],
   "source": [
    "def count_elements(lis):\n",
    "    counts = {}\n",
    "    for element in lis:\n",
    "        if element in counts:\n",
    "            counts[element] += 1\n",
    "        else:\n",
    "            counts[element] = 1\n",
    "    return counts\n",
    "lis1 = [20,45,66,40,200,78,54,68,98,65,78,20,48]\n",
    "print(count_elements(lis1))"
   ]
  },
  {
   "cell_type": "code",
   "execution_count": 4,
   "id": "7345b4a3-4db9-482a-96ad-2e45e654c7ce",
   "metadata": {},
   "outputs": [
    {
     "name": "stdout",
     "output_type": "stream",
     "text": [
      "[89, 58, 38, 67, 44]\n"
     ]
    }
   ],
   "source": [
    "#14 -  Write a code to reverse a list in-place without using any built-in reverse function.\n",
    "\n",
    "\n",
    "def reverse(lst):\n",
    "    left = 0\n",
    "    right = len(lst) - 1\n",
    "    \n",
    "    while left < right:\n",
    "        lst[left], lst[right] = lst[right], lst[left]\n",
    "        left += 1\n",
    "        right -= 1\n",
    "rev_l1 = [44, 67, 38, 58, 89]\n",
    "reverse(rev_l1)\n",
    "print(rev_l1)        \n"
   ]
  },
  {
   "cell_type": "code",
   "execution_count": 5,
   "id": "4f2d3307-a1c9-4be0-92e6-8678122c9be8",
   "metadata": {},
   "outputs": [
    {
     "name": "stdout",
     "output_type": "stream",
     "text": [
      "[1, 22, 44, 6, 7, 77, 54]\n"
     ]
    }
   ],
   "source": [
    "#15 - impletment a code to find and remove duplicates from a list while preserving the original order of elements\n",
    "\n",
    "def duplicates(lis):\n",
    "    seen = {}\n",
    "    results = []\n",
    "    for item in lis:\n",
    "        if item not in seen:\n",
    "            seen[item] = True\n",
    "            results.append(item)\n",
    "    return results\n",
    "\n",
    "elemen = [1,22,44,6,22,7,44,77,54,44]\n",
    "results = duplicates(elemen)\n",
    "print(results)"
   ]
  },
  {
   "cell_type": "code",
   "execution_count": 14,
   "id": "18549209-d580-497b-be1d-ebdeea9fd36f",
   "metadata": {},
   "outputs": [
    {
     "data": {
      "text/plain": [
       "['Alomonds', 'Drink', 'Food', 'Fruit']"
      ]
     },
     "execution_count": 14,
     "metadata": {},
     "output_type": "execute_result"
    }
   ],
   "source": [
    "#16 -- Create a code to check if a given list is sorted (either in 'Asending or descending order) or not\n",
    "\n",
    "data = ['Food','Fruit','Almonds','Drink']\n",
    "sorted(data)"
   ]
  },
  {
   "cell_type": "code",
   "execution_count": 39,
   "id": "348da8b2-68d7-4762-bfa3-68cd2e7f5e63",
   "metadata": {},
   "outputs": [
    {
     "name": "stdout",
     "output_type": "stream",
     "text": [
      "Not sorted\n",
      "Asending\n",
      "Descending\n"
     ]
    }
   ],
   "source": [
    "def sort(lis):\n",
    "    asending = all(lis[i] <= lis[i+1] for i in range(len(lis)-1))\n",
    "    if asending:\n",
    "        return \"Asending\"\n",
    "    \n",
    "    descending = all(lis[1] >= lis[i+1] for i in range (len(lis)-1))\n",
    "    if descending:\n",
    "        return \"Descending\"\n",
    "    \n",
    "    return \"Not sorted\"\n",
    "\n",
    "data = ['Food','Drink','Almonds','Fruit']\n",
    "data1 = ['Almonds','Drink','Food','fruit']\n",
    "data2 = ['Fruit','Food','Drink','Almonds']\n",
    "print(sort(data))\n",
    "print(sort(data1))\n",
    "print(sort(data2))\n"
   ]
  },
  {
   "cell_type": "code",
   "execution_count": 55,
   "id": "302c70c7-c4b9-40b2-b56c-3921eb3e9459",
   "metadata": {},
   "outputs": [
    {
     "name": "stdout",
     "output_type": "stream",
     "text": [
      "['Food', 'Fruit', 'Drink', 'Pasta', 'Grapes', 'Milkshake']\n"
     ]
    }
   ],
   "source": [
    "#17 : Write a code to merge two sorted lists into a single sorted lists\n",
    "\n",
    "def merge_single(lis1, lis2):\n",
    "    merged_list = []\n",
    "    i = 0\n",
    "    j = 0\n",
    "    \n",
    "    while i < len(lis1) and j < len(lis2):\n",
    "        if lis1[i] < lis2[j]:\n",
    "            merged_list.append(lis1[i])\n",
    "            i += 1\n",
    "        else :\n",
    "            merged_list.append(lis2[j])\n",
    "            j += 1\n",
    "    while i < len(lis1):\n",
    "            merged_list.append(lis1[i])\n",
    "            i += 1\n",
    "    while j < len(lis2):\n",
    "            merged_list.append(lis2[j])\n",
    "            j += 1\n",
    "    return merged_list\n",
    "\n",
    "\n",
    "lis1 = ['Food','Fruit','Drink']\n",
    "lis2 = ['Pasta','Grapes','Milkshake']\n",
    "merged_list = merge_single(lis1, lis2)\n",
    "print(merged_list)\n",
    "              "
   ]
  },
  {
   "cell_type": "code",
   "execution_count": 56,
   "id": "b4104dcc-39e7-484f-b7be-1f5f3b6d89ec",
   "metadata": {},
   "outputs": [
    {
     "name": "stdout",
     "output_type": "stream",
     "text": [
      "[1, 2, 4]\n"
     ]
    }
   ],
   "source": [
    "#18 Impletment code to find  interscetion of two given lists\n",
    "\n",
    "def list_intersection(lis1, lis2):\n",
    "    a = set(lis1)\n",
    "    b = set(lis2)\n",
    "    \n",
    "    c = a.intersection(b)\n",
    "    return list(c)\n",
    "\n",
    "lis1 = [1,2,3,4,5]\n",
    "lis2 = [2,4,6,7,1]\n",
    "c = list_intersection(lis1, lis2)\n",
    "print(c)"
   ]
  },
  {
   "cell_type": "code",
   "execution_count": 11,
   "id": "e5b5a5d7-9718-42d5-892b-77215592de52",
   "metadata": {},
   "outputs": [
    {
     "name": "stdin",
     "output_type": "stream",
     "text": [
      "Enter The List 1,2,3,4,5\n",
      "Enter The list 3,4,7,8,9\n"
     ]
    },
    {
     "name": "stdout",
     "output_type": "stream",
     "text": [
      "Intersection of List [3, 4]\n"
     ]
    }
   ],
   "source": [
    "def list_intersection(lis1, lis2):\n",
    "    a = set(map(int, lis1.split(',')))\n",
    "    b = set(map(int, lis2.split(',')))\n",
    "    \n",
    "    c = a.intersection(b)\n",
    "    return list(c)\n",
    "\n",
    "lis1 = input(\"Enter The List\")\n",
    "lis2 = input(\"Enter The list\")\n",
    "c = list_intersection(lis1, lis2)\n",
    "print(\"Intersection of List\",c)"
   ]
  },
  {
   "cell_type": "code",
   "execution_count": 101,
   "id": "e7de8801-d4a1-4009-b76f-4319f222baf7",
   "metadata": {},
   "outputs": [
    {
     "name": "stdout",
     "output_type": "stream",
     "text": [
      "[4, 5, 6, 7, 8]\n"
     ]
    }
   ],
   "source": [
    "#19 : Create code to Find the union of two list without Duplicates\n",
    "\n",
    "def union_lis(lis1, lis2):\n",
    "    s = set[lis1].union(set(lis2))\n",
    "    l = list(s)\n",
    "    return l\n",
    "lis1 = [1,2,3,4,5]\n",
    "lis2 = [4,5,6,7,8]\n",
    "union = union_lis(lis1, lis2)\n",
    "print(union)"
   ]
  },
  {
   "cell_type": "code",
   "execution_count": 65,
   "id": "149483ae-b7dc-4976-99a7-0dcf674d9469",
   "metadata": {},
   "outputs": [
    {
     "name": "stdout",
     "output_type": "stream",
     "text": [
      "Orignal list [0, 1, 2, 3, 4, 5, 6, 7, 8, 9]\n",
      "Shuffled list [8, 7, 6, 0, 4, 1, 5, 9, 2, 3]\n"
     ]
    }
   ],
   "source": [
    "#20 - write code to shuffle a given list randomly without using any built - in shuffle function\n",
    "\n",
    "import random\n",
    "\n",
    "a = list(range(10))\n",
    "print(\"Orignal list\",a)\n",
    "random.shuffle(a)\n",
    "print(\"Shuffled list\",a)"
   ]
  },
  {
   "cell_type": "code",
   "execution_count": 74,
   "id": "3d32e0e5-90a9-4662-b50e-fba366ddfab7",
   "metadata": {},
   "outputs": [
    {
     "name": "stdout",
     "output_type": "stream",
     "text": [
      "{'Food'}\n"
     ]
    }
   ],
   "source": [
    "#21 : Write a code that takes two tuples as input and returns a new tuple containing elements that are common to both input tuples\n",
    "\n",
    "def elements(t1,t2):\n",
    "    a = set(t1)\n",
    "    b = set(t2)\n",
    "    \n",
    "    c = a.intersection(b)\n",
    "    t = tuple(c)\n",
    "    return(c)\n",
    "t1 = [\"Food\",\"Drink\",\"Fruit\"]\n",
    "t2 = [\"Food\",\"Almonds\",\"grapes\"]\n",
    "d = elements(t1,t2)\n",
    "print(d)\n",
    "    "
   ]
  },
  {
   "cell_type": "code",
   "execution_count": 9,
   "id": "d168f7c5-c1a8-43f0-b6d2-3b01d17af2d8",
   "metadata": {},
   "outputs": [
    {
     "name": "stdin",
     "output_type": "stream",
     "text": [
      "Enter First Tuple :  1,2,3,4,6,7\n",
      "Enter Second Tuple : 4,2,7,8,9\n"
     ]
    },
    {
     "name": "stdout",
     "output_type": "stream",
     "text": [
      "Common elements in tuple {2, 4, 7}\n"
     ]
    }
   ],
   "source": [
    "def elements(t1,t2):\n",
    "    a = set(map(int, t1.split(',')))\n",
    "    b = set(map(int, t2.split(',')))\n",
    "    \n",
    "    c = a.intersection(b)\n",
    "    t = tuple(c)\n",
    "    return(c)\n",
    "t1 = input(\"Enter First Tuple : \")\n",
    "t2 = input(\"Enter Second Tuple :\")\n",
    "d = elements(t1,t2)\n",
    "print(\"Common elements in tuple\",d)\n",
    "    "
   ]
  },
  {
   "cell_type": "code",
   "execution_count": 19,
   "id": "3a6efa13-bce1-4739-a625-e4d1cc957d0a",
   "metadata": {},
   "outputs": [
    {
     "name": "stdin",
     "output_type": "stream",
     "text": [
      "enter set value 1,2,3,4\n",
      "enter set value 2,3,4,5\n"
     ]
    },
    {
     "name": "stdout",
     "output_type": "stream",
     "text": [
      "Intersection {2, 3, 4}\n"
     ]
    }
   ],
   "source": [
    "#22= Create the code that prompts user to enter two sets of integers seprated by commas. Then print the intersection of these two sets\n",
    "\n",
    "def sets(set1, set2):\n",
    "    a = set(map(int, set1.split(',')))\n",
    "    b = set(map(int, set2.split(',')))\n",
    "    c = a.intersection(b)\n",
    "    return(c)\n",
    "   \n",
    "\n",
    "set1 = input(\"enter set value\")\n",
    "set2 = input(\"enter set value\")\n",
    "d = sets(set1,set2)\n",
    "print(\"Intersection\", d)"
   ]
  },
  {
   "cell_type": "code",
   "execution_count": 92,
   "id": "a541dc7d-3b48-4549-86f4-e1bed170fe33",
   "metadata": {},
   "outputs": [
    {
     "name": "stdout",
     "output_type": "stream",
     "text": [
      "Enter the first set of integers:\n"
     ]
    },
    {
     "name": "stdin",
     "output_type": "stream",
     "text": [
      "Enter a set of integers separated by commas:  1,2,3,4,5\n"
     ]
    },
    {
     "name": "stdout",
     "output_type": "stream",
     "text": [
      "Enter the second set of integers:\n"
     ]
    },
    {
     "name": "stdin",
     "output_type": "stream",
     "text": [
      "Enter a set of integers separated by commas:  2,3,6,7\n"
     ]
    },
    {
     "name": "stdout",
     "output_type": "stream",
     "text": [
      "Intersection of the two sets: {2, 3}\n"
     ]
    }
   ],
   "source": [
    "def inputt():\n",
    "    user1 = input(\"Enter a set of integers separated by commas: \")\n",
    "    list1 = user1.split(',')\n",
    "    set1 = set(int(num.strip()) for num in list1)\n",
    "    return set1\n",
    "\n",
    "def main():\n",
    "    print(\"Enter the first set of integers:\")\n",
    "    set1 = inputt()\n",
    "    \n",
    "    print(\"Enter the second set of integers:\")\n",
    "    set2 = inputt()\n",
    "    \n",
    "    intersection = set1.intersection(set2)\n",
    "    print(\"Intersection of the two sets:\", intersection)\n",
    "\n",
    "if __name__ == \"__main__\":\n",
    "    main()"
   ]
  },
  {
   "cell_type": "code",
   "execution_count": 98,
   "id": "72e06f9b-65b0-43b5-bc6d-176e90736a8b",
   "metadata": {},
   "outputs": [
    {
     "name": "stdin",
     "output_type": "stream",
     "text": [
      "Enter First Tuple : 1 2 3 Food 5 Drink\n",
      "Enter Second Tuple : 4 5 6 Fruit 4 3\n"
     ]
    },
    {
     "name": "stdout",
     "output_type": "stream",
     "text": [
      "Cocatenat Two Touple values 1 2 3 Food 5 Drink4 5 6 Fruit 4 3\n"
     ]
    }
   ],
   "source": [
    "#23 - Write code to concatenate two tuples. The function should take two tuples as input and return a newn tuple containing elements from both input tuples\n",
    "\n",
    "def concatenate(t1,t2):\n",
    "    t3 = t1+t2 \n",
    "    return t3\n",
    "    \n",
    "    \n",
    "t1 = input(\"Enter First Tuple :\")\n",
    "t2 = input(\"Enter Second Tuple :\") \n",
    "concat = concatenate(t1,t2)\n",
    "print(\"Cocatenat Two Touple values\",concat)\n",
    "    "
   ]
  },
  {
   "cell_type": "code",
   "execution_count": 104,
   "id": "0106ff69-bf43-4177-b9f2-1fc394bc3d90",
   "metadata": {},
   "outputs": [
    {
     "name": "stdin",
     "output_type": "stream",
     "text": [
      "Enter the First sets  A, B, C ,D\n",
      "Enter the Second sets B,E,F,G\n"
     ]
    },
    {
     "name": "stdout",
     "output_type": "stream",
     "text": [
      "Elements are present in first set {'D', 'C', 'A', ' '}\n"
     ]
    }
   ],
   "source": [
    "#24 - Develop the code that prompts the user to input two sets of strings. Then print the elements that are presents in the first set but not in the second sets\n",
    "\n",
    "def not_present(set1,set2):\n",
    "    a = set(set1)\n",
    "    b = set(set2)\n",
    "    c = a - b\n",
    "    return(c)\n",
    "\n",
    "set1 = input(\"Enter the First sets\")\n",
    "set2 = input(\"Enter the Second sets\")\n",
    "first_set = not_present(set1,set2)\n",
    "print(\"Elements are present in first set\",first_set)\n",
    "    \n",
    "    \n",
    "\n"
   ]
  },
  {
   "cell_type": "code",
   "execution_count": 108,
   "id": "f6d7cb90-4e2f-4c23-aa1f-f19823f5ede6",
   "metadata": {},
   "outputs": [
    {
     "name": "stdout",
     "output_type": "stream",
     "text": [
      "(3, 4, 5, 6)\n"
     ]
    }
   ],
   "source": [
    "#25 - Create a code that takes a tuple and two intgers as input. The function should return + new tuple containing elemnets from the original tuple within the specified range of indices\n",
    "\n",
    "def elements(tuple_input, start_index, end_index):\n",
    "    if start_index < 0 or end_index >= len(tuple_input) or start_index > end_index:\n",
    "        return ()  \n",
    "\n",
    "    tuple1 = tuple_input[start_index:end_index + 1]\n",
    "    return tuple1\n",
    "\n",
    "\n",
    "my_tuple = (1, 2, 3, 4, 5, 6, 7, 8, 9)\n",
    "start_index = 2\n",
    "end_index = 5\n",
    "result = elements(my_tuple, start_index, end_index)\n",
    "print(result)"
   ]
  },
  {
   "cell_type": "code",
   "execution_count": 116,
   "id": "5e0c0330-55fb-465c-a2ee-db0795d1056b",
   "metadata": {},
   "outputs": [
    {
     "name": "stdin",
     "output_type": "stream",
     "text": [
      "Enter The First Characters A,B,C,D\n",
      "Enter The Second Characters D,F,G,A\n"
     ]
    },
    {
     "name": "stdout",
     "output_type": "stream",
     "text": [
      "Union of Two Sets {'F', 'C', 'A', 'B', 'D', ',', 'G'}\n"
     ]
    }
   ],
   "source": [
    "#26 - Write a code that prompts the user to input two sets of characters. Then print the union of this two sets\n",
    "\n",
    "def union_char(s1,s2):\n",
    "    a = set(s1)\n",
    "    b = set(s2)\n",
    "    union_char = a.union(b)\n",
    "    return(union_char)\n",
    "\n",
    "s1 = input(\"Enter The First Characters\")\n",
    "s2 = input(\"Enter The Second Characters\")\n",
    "two_sets = union_char(s1,s2)\n",
    "print(\"Union of Two Sets\",two_sets)\n",
    "\n",
    "\n"
   ]
  },
  {
   "cell_type": "code",
   "execution_count": 1,
   "id": "9a970228-8905-4214-8350-457b47d0a957",
   "metadata": {},
   "outputs": [
    {
     "name": "stdin",
     "output_type": "stream",
     "text": [
      "Enter the tuple values 1,2,3,4,5\n"
     ]
    },
    {
     "name": "stdout",
     "output_type": "stream",
     "text": [
      "Maximum value 5\n",
      "Minimum Value ,\n"
     ]
    }
   ],
   "source": [
    "#27 - Develop the code that takes a tuples of integers as input ,The function should return the maximum and minimum values from the tuple using tuple unpcaking\n",
    "\n",
    "def values(enter_tuple):\n",
    "    max_val = max(enter_tuple)\n",
    "    min_val = min(enter_tuple)\n",
    "\n",
    "    return max_val,min_val\n",
    "\n",
    "enter_tuple = input(\"Enter the tuple values\")\n",
    "max_val,min_val = values(enter_tuple)\n",
    "print(\"Maximum value\", max_val)\n",
    "print(\"Minimum Value\", min_val)\n",
    "\n",
    "\n"
   ]
  },
  {
   "cell_type": "code",
   "execution_count": 7,
   "id": "5793fafe-5eda-4c4f-a48a-b89bc1beffac",
   "metadata": {},
   "outputs": [
    {
     "name": "stdin",
     "output_type": "stream",
     "text": [
      "Enter a tuple of integers separated by commas:  23,70,56,4,3\n"
     ]
    },
    {
     "name": "stdout",
     "output_type": "stream",
     "text": [
      "Maximum value 70\n",
      "Minimum Value 3\n"
     ]
    }
   ],
   "source": [
    "def values1(input_tuple):\n",
    "    \n",
    "    min_val = min(input_tuple)\n",
    "    max_val = max(input_tuple)\n",
    "    \n",
    "    return max_val,min_val\n",
    "    \n",
    "def main():\n",
    "    input_str = input(\"Enter a tuple of integers separated by commas: \")\n",
    "    input_tuple = tuple(map(int, input_str.split(',')))\n",
    "    \n",
    "    max_val,min_val = values1(input_tuple)\n",
    "    print(\"Maximum value\", max_val)\n",
    "    print(\"Minimum Value\", min_val)\n",
    "    \n",
    "if __name__ == \"__main__\":\n",
    "    main()    "
   ]
  },
  {
   "cell_type": "code",
   "execution_count": 12,
   "id": "b710ed77-ee30-43e0-b26f-36ff0751b865",
   "metadata": {},
   "outputs": [
    {
     "name": "stdin",
     "output_type": "stream",
     "text": [
      "Enter the integers 1,2,3,4,5\n",
      "Enter The Inetegers 2,5,6,7,8\n"
     ]
    },
    {
     "name": "stdout",
     "output_type": "stream",
     "text": [
      "Union value {'5', '2', ',', '6', '1', '8', '4', '7', '3'}\n",
      "Intersection Value {'5', '2', ','}\n",
      "Difference value {'3', '4', '1'}\n"
     ]
    }
   ],
   "source": [
    "#28 - Create code that defins two sets of intgers. Then print the union , intetsection and differnce of these two sets\n",
    "\n",
    "def diff_method(s1,s2):\n",
    "    a = set(s1)\n",
    "    b = set(s2)\n",
    "    u = a.union(b)\n",
    "    i = a.intersection(b)\n",
    "    d = a.difference(b)\n",
    "    return(u,i,d)\n",
    "    \n",
    "s1 = input(\"Enter the integers\")\n",
    "s2 = input(\"Enter The Inetegers\")\n",
    "u,i,d = diff_method(s1,s2)\n",
    "print(\"Union value\",u)\n",
    "print(\"Intersection Value\",i)\n",
    "print(\"Difference value\",d)\n",
    "    \n",
    "\n"
   ]
  },
  {
   "cell_type": "code",
   "execution_count": 7,
   "id": "e4cc4588-0108-4e7c-af97-f36bf970b7ff",
   "metadata": {},
   "outputs": [
    {
     "name": "stdin",
     "output_type": "stream",
     "text": [
      "Enter the integers 1,2,3,4,5\n",
      "Enter The Inetegers 2,4,6,7,8\n"
     ]
    },
    {
     "name": "stdout",
     "output_type": "stream",
     "text": [
      "Union value {1, 2, 3, 4, 5, 6, 7, 8}\n",
      "Intersection Value {2, 4}\n",
      "Difference value {1, 3, 5}\n"
     ]
    }
   ],
   "source": [
    "def diff_method(s1,s2): \n",
    "    a = set(map(int, s1.split(','))) #Convert into integer and then split by ,\n",
    "    b = set(map(int, s2.split(',')))\n",
    "    u = a.union(b)\n",
    "    i = a.intersection(b)\n",
    "    d = a.difference(b)\n",
    "    return(u,i,d)\n",
    "    \n",
    "s1 = input(\"Enter the integers\")\n",
    "s2 = input(\"Enter The Inetegers\")\n",
    "u,i,d = diff_method(s1,s2)\n",
    "print(\"Union value\",u)\n",
    "print(\"Intersection Value\",i)\n",
    "print(\"Difference value\",d)\n",
    "    \n"
   ]
  },
  {
   "cell_type": "code",
   "execution_count": 13,
   "id": "59c23520-66bf-48f7-a75d-9d63009f859e",
   "metadata": {},
   "outputs": [
    {
     "name": "stdin",
     "output_type": "stream",
     "text": [
      "Enter Tuple values 1,2,3,2,3,4,5,6,7,2,8,9\n",
      "Enter Element 2\n"
     ]
    },
    {
     "name": "stdout",
     "output_type": "stream",
     "text": [
      "Count Of Occurrence of Two tuples 3\n"
     ]
    }
   ],
   "source": [
    "#29 - write a code that takes a tuple and an elemnets as input, then function should return the count of occurrences of the given element in the tuple.\n",
    "\n",
    "def occurrence(t1,element):\n",
    "    return t1.count(element)\n",
    "\n",
    "t1 = input(\"Enter Tuple values\")\n",
    "element = input(\"Enter Element\")\n",
    "count_occ = occurrence(t1,element)\n",
    "print(\"Count Of Occurrence of Two tuples\",count_occ)"
   ]
  },
  {
   "cell_type": "code",
   "execution_count": 19,
   "id": "7bc10d73-ac6d-48e5-92ec-c89b90fdb7c8",
   "metadata": {},
   "outputs": [
    {
     "name": "stdin",
     "output_type": "stream",
     "text": [
      "Enter The string1 Grapes,Banana,Orange,Mango\n",
      "Enter The string2 Mango,Grapes,Apple,water-melon\n"
     ]
    },
    {
     "name": "stdout",
     "output_type": "stream",
     "text": [
      "Symmetric Difference {'water-melon', 'Banana', 'Apple', 'Orange'}\n"
     ]
    }
   ],
   "source": [
    "#30 -Develop a code that prompts the user to input two sets of strings , then print the symmetric difference of this two sets    \n",
    "\n",
    "def symmetric_diff(str1,str2):\n",
    "    a = set(str1.split(','))\n",
    "    b = set(str2.split(','))\n",
    "    c = a.symmetric_difference(b)\n",
    "    return(c)\n",
    "str1 = input(\"Enter The string1\")\n",
    "str2 = input(\"Enter The string2\")\n",
    "two_sets = symmetric_diff(str1,str2)\n",
    "print(\"Symmetric Difference\",two_sets)"
   ]
  },
  {
   "cell_type": "code",
   "execution_count": 20,
   "id": "70816004-217d-4eab-9515-aa9c799fe8ae",
   "metadata": {},
   "outputs": [
    {
     "name": "stdin",
     "output_type": "stream",
     "text": [
      "Enter The string1 Grapes,Banana,Orange,Mango\n",
      "Enter The string2 Mango,Grapes,Apple,water-melon\n"
     ]
    },
    {
     "name": "stdout",
     "output_type": "stream",
     "text": [
      "Symmetric Difference {'water-melon', 'Banana', 'Apple', 'Orange'}\n"
     ]
    }
   ],
   "source": [
    "#Using operator \n",
    "\n",
    "def symmetric_diff(str1,str2):\n",
    "    a = set(str1.split(','))\n",
    "    b = set(str2.split(','))\n",
    "    c = a^b\n",
    "    return(c)\n",
    "str1 = input(\"Enter The string1\")\n",
    "str2 = input(\"Enter The string2\")\n",
    "two_sets = symmetric_diff(str1,str2)\n",
    "print(\"Symmetric Difference\",two_sets)"
   ]
  },
  {
   "cell_type": "code",
   "execution_count": 26,
   "id": "2771b3d9-3e30-486e-8afb-95047df094a2",
   "metadata": {},
   "outputs": [
    {
     "name": "stdin",
     "output_type": "stream",
     "text": [
      "Enter The key: Apple\n",
      "Enter The Values: 3\n",
      "Enter The key: Grapes\n",
      "Enter The Values: 8\n",
      "Enter The key: Mango\n",
      "Enter The Values: 7\n",
      "Enter The key: exit\n",
      "Enter The Values: l\n"
     ]
    },
    {
     "name": "stdout",
     "output_type": "stream",
     "text": [
      "{'Apple': '3', 'Grapes': '8', 'Mango': '7'}\n"
     ]
    }
   ],
   "source": [
    "#31 - Write a code that takes a list of words as input and returns a dictionary where the keys are unique words and the values are the frequancies of those words in the input lists.\n",
    "\n",
    "user = {}\n",
    "exit = True\n",
    "while exit:\n",
    "    key = input(\"Enter The key:\")\n",
    "    value = input(\"Enter The Values:\")\n",
    "    if key == \"exit\":\n",
    "        break\n",
    "    user[key]=value\n",
    "print(user)"
   ]
  },
  {
   "cell_type": "code",
   "execution_count": 3,
   "id": "25c64ee1-0a34-4feb-a7e5-ad0860ede3e7",
   "metadata": {},
   "outputs": [
    {
     "name": "stdin",
     "output_type": "stream",
     "text": [
      "Enter the key (or type 'exit' to finish):  Grapes\n",
      "Enter the value:  7\n",
      "Enter the key (or type 'exit' to finish):  banana\n",
      "Enter the value:  5\n",
      "Enter the key (or type 'exit' to finish):  orange\n",
      "Enter the value:  8\n",
      "Enter the key (or type 'exit' to finish):  exit\n",
      "Enter the key :  cherry\n",
      "Enter the value:  4\n",
      "Enter the key :  Grapes\n",
      "Enter the value:  3\n",
      "Enter the key :  Apple\n",
      "Enter the value:  5\n",
      "Enter the key :  exit\n"
     ]
    },
    {
     "name": "stdout",
     "output_type": "stream",
     "text": [
      "Merged dictionary: {'Grapes': 10, 'banana': 5, 'orange': 8, 'cherry': 4, 'Apple': 5}\n"
     ]
    }
   ],
   "source": [
    "#32 - write a code that takes two dictionary as input and merged them into single dictionary,if there are commom keys values should be added together\n",
    "\n",
    "\n",
    "\n",
    "def merge_dics(d1,d2):\n",
    "    merged_dict = d1.copy()\n",
    "    \n",
    "    for key,value in d2.items():\n",
    "        if key in merged_dict:\n",
    "            merged_dict[key] += value\n",
    "        else:\n",
    "            merged_dict[key] = value\n",
    "    return merged_dict\n",
    "d1 = {}\n",
    "while True:\n",
    "    key = input(\"Enter the key (or type 'exit' to finish): \")\n",
    "    if key == 'exit':\n",
    "        break\n",
    "    value = input(\"Enter the value: \")\n",
    "    d1[key] = int(value)  \n",
    "\n",
    "d2 = {}\n",
    "while True:\n",
    "    key = input(\"Enter the key : \")\n",
    "    if key == 'exit':\n",
    "        break\n",
    "    value = input(\"Enter the value: \")\n",
    "    d2[key] = int(value)  \n",
    "\n",
    "\n",
    "merged_dict = merge_dics(d1, d2)\n",
    "print(\"Merged dictionary:\", merged_dict)"
   ]
  },
  {
   "cell_type": "code",
   "execution_count": 1,
   "id": "cbcbaf15-acd0-4a27-95f7-ac71eef6c4be",
   "metadata": {},
   "outputs": [
    {
     "name": "stdout",
     "output_type": "stream",
     "text": [
      "Value: 1\n"
     ]
    }
   ],
   "source": [
    "# 33 - write a code to access a value in a nestead diciionary.the function should take the dictionary and a list of keys as input and return the corresponding value. if nay of the keys do not exist in the\n",
    "#dictionary the function should return none\n",
    "\n",
    "def nested_dict1(d1, keys):\n",
    "    nested_dict = d1\n",
    "    for key in keys:\n",
    "        if key in nested_dict:\n",
    "            nested_dict = nested_dict[key]\n",
    "        else:\n",
    "            return None\n",
    "    return nested_dict\n",
    "my_dict = {\n",
    "    'a': {\n",
    "        'b': {\n",
    "            'c': 1\n",
    "        }\n",
    "    }\n",
    "}\n",
    "keys = ['a', 'b', 'c']\n",
    "value = nested_dict1(my_dict, keys)\n",
    "print(\"Value:\", value)  "
   ]
  },
  {
   "cell_type": "code",
   "execution_count": 2,
   "id": "95f59351-add0-456c-be27-db6041aba728",
   "metadata": {},
   "outputs": [
    {
     "name": "stdin",
     "output_type": "stream",
     "text": [
      "Enter the dictonary a,b,c\n"
     ]
    },
    {
     "name": "stdout",
     "output_type": "stream",
     "text": [
      "Value: None\n"
     ]
    }
   ],
   "source": [
    "def nested_dict1(d1, keys):\n",
    "    nested_dict = d1\n",
    "    for key in keys:\n",
    "        if key in nested_dict:\n",
    "            nested_dict = nested_dict[key]\n",
    "        else:\n",
    "            return None\n",
    "    \n",
    "    \n",
    "    return nested_dict\n",
    "\n",
    "\n",
    "my_dict = {\n",
    "    'a': {\n",
    "        'b': {\n",
    "            'c': 1\n",
    "        }\n",
    "    }\n",
    "}\n",
    "keys = input(\"Enter the dictonary\")\n",
    "value = nested_dict1(my_dict, keys)\n",
    "print(\"Value:\", value)  "
   ]
  },
  {
   "cell_type": "code",
   "execution_count": 15,
   "id": "3c2ebb2b-8b54-473f-a8ac-74c4782ec8ba",
   "metadata": {},
   "outputs": [
    {
     "name": "stdin",
     "output_type": "stream",
     "text": [
      "Enter keys and values separated by commas (e.g., key1: value1, key2: value2):  a : 4, b : 1, c : 3\n"
     ]
    },
    {
     "name": "stdout",
     "output_type": "stream",
     "text": [
      "Sorted dictionary: {'a ': '4', 'c ': '3', 'b ': '1'}\n"
     ]
    }
   ],
   "source": [
    "#34 : Write code that takes a dictionary as input and returns a sorted version of it based on the values. You can choose whether to sort in ascending or descending order\n",
    "\n",
    "\n",
    "def sort_dict_by_values(dictionary, reverse=False):\n",
    "    sorted_dict = dict(sorted(dictionary.items(), key=lambda item: item[1], reverse=reverse))\n",
    "    return sorted_dict\n",
    "my_input = input(\"Enter keys and values separated by commas (e.g., key1: value1, key2: value2): \")\n",
    "\n",
    "\n",
    "\n",
    "my_dict = dict(item.split(\": \") for item in my_input.split(\", \"))\n",
    "sorted_dict = sort_dict_by_values(my_dict, reverse=True)  # Sort in descending order\n",
    "print(\"Sorted dictionary:\", sorted_dict)"
   ]
  },
  {
   "cell_type": "code",
   "execution_count": 14,
   "id": "e277eadb-b76b-4461-baa4-86bc481b9bee",
   "metadata": {},
   "outputs": [
    {
     "name": "stdin",
     "output_type": "stream",
     "text": [
      "Enter keys and values separated by commas (e.g., key1: value1, key2: value2):  a : 4 , b : 1 , c : 3\n"
     ]
    },
    {
     "name": "stdout",
     "output_type": "stream",
     "text": [
      "Sorted dictionary: {'b ': '1 ', 'c ': '3', 'a ': '4 '}\n"
     ]
    }
   ],
   "source": [
    "def sort_dict_by_values(dictionary, reverse=False):\n",
    "    sorted_dict = dict(sorted(dictionary.items(), key=lambda item: item[1], reverse=reverse))\n",
    "    return sorted_dict\n",
    "my_input = input(\"Enter keys and values separated by commas (e.g., key1: value1, key2: value2): \")\n",
    "\n",
    "\n",
    "\n",
    "my_dict = dict(item.split(\": \") for item in my_input.split(\", \"))\n",
    "sorted_dict = sort_dict_by_values(my_dict, reverse=False)  # Sort in ascending order\n",
    "print(\"Sorted dictionary:\", sorted_dict)"
   ]
  },
  {
   "cell_type": "code",
   "execution_count": 16,
   "id": "57e6511f-d243-4cd9-b0cb-eae77da39140",
   "metadata": {},
   "outputs": [
    {
     "name": "stdout",
     "output_type": "stream",
     "text": [
      "Inverted dictionary: {1: ['a', 'c'], 2: ['b', 'd']}\n"
     ]
    }
   ],
   "source": [
    "#35 - write a code that inverts a dictionary swapping keys and values.Ensure that the inverted dictionary correctly handles cases where multiple keys\n",
    "#have the same value by storing the kays as a list in the inverted dictionary\n",
    "\n",
    "def invert_dict(dictionary):\n",
    "    inverted_dict = {}\n",
    "    for key, value in dictionary.items():\n",
    "        if value in inverted_dict:\n",
    "            inverted_dict[value].append(key)\n",
    "        else:\n",
    "            inverted_dict[value] = [key]\n",
    "    return inverted_dict\n",
    "\n",
    "\n",
    "my_dict = {'a': 1, 'b': 2, 'c': 1, 'd': 2}\n",
    "inverted_dict = invert_dict(my_dict)\n",
    "print(\"Inverted dictionary:\", inverted_dict)"
   ]
  },
  {
   "cell_type": "code",
   "execution_count": null,
   "id": "b054564f-c092-42a1-98d5-c49a2041584d",
   "metadata": {},
   "outputs": [],
   "source": []
  }
 ],
 "metadata": {
  "kernelspec": {
   "display_name": "Python 3 (ipykernel)",
   "language": "python",
   "name": "python3"
  },
  "language_info": {
   "codemirror_mode": {
    "name": "ipython",
    "version": 3
   },
   "file_extension": ".py",
   "mimetype": "text/x-python",
   "name": "python",
   "nbconvert_exporter": "python",
   "pygments_lexer": "ipython3",
   "version": "3.10.8"
  }
 },
 "nbformat": 4,
 "nbformat_minor": 5
}
