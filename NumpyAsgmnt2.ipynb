{
 "cells": [
  {
   "cell_type": "code",
   "execution_count": 3,
   "id": "2f2a73a5-961d-4add-a5df-5a35e95e9e4b",
   "metadata": {},
   "outputs": [
    {
     "name": "stdout",
     "output_type": "stream",
     "text": [
      "Arr1 [3 5 0 8 0 8 3 4 0 3]\n",
      "Arr2 [ 1  2  3  4  5  6  7  8  9 10]\n",
      "Element wise addition [ 4  7  3 12  5 14 10 12  9 13]\n"
     ]
    }
   ],
   "source": [
    "#Q51. Create a NumPy array `arr1` with random integers and another array `arr2` with integers from 1 to 10. Perform element-wise addition between `arr1` and `arr2`#\n",
    "\n",
    "import numpy as np\n",
    "\n",
    "arr1 = np.random.randint(0,10,size =(10,))\n",
    "arr2 = np.arange(1,11)\n",
    "addition = arr1+arr2\n",
    "print(\"Arr1\",arr1)\n",
    "print(\"Arr2\",arr2)\n",
    "print(\"Element wise addition\",addition)"
   ]
  },
  {
   "cell_type": "code",
   "execution_count": 13,
   "id": "6914ad35-1931-482b-b756-0b72c28dd042",
   "metadata": {},
   "outputs": [
    {
     "name": "stdout",
     "output_type": "stream",
     "text": [
      "Arr1 [10  9  8  7  6  5  4  3  2  1]\n",
      "Arr2 [ 1  2  3  4  5  6  7  8  9 10]\n",
      "Substarcation [ 9  7  5  3  1 -1 -3 -5 -7 -9]\n"
     ]
    }
   ],
   "source": [
    "#Q52. Generate a NumPy array `arr1` with sequential integers from 10 to 1 and another array `arr2` with integers from 1 to 10. Subtract `arr2` from `arr1` element-wise\n",
    "\n",
    "arr1 = np.arange(10,0,-1)\n",
    "arr2 = np.arange(1,11)\n",
    "Subtract = arr1-arr2\n",
    "print(\"Arr1\",arr1)\n",
    "print(\"Arr2\",arr2)\n",
    "print(\"Substarcation\",Subtract)"
   ]
  },
  {
   "cell_type": "code",
   "execution_count": 15,
   "id": "39cc974a-92f7-499f-a00e-92750404c3a7",
   "metadata": {},
   "outputs": [
    {
     "name": "stdout",
     "output_type": "stream",
     "text": [
      "Arr1 [1 2 3 1 4]\n",
      "Arr2 [1 2 3 4 5]\n",
      "Multiplication of Array [ 1  4  9  4 20]\n"
     ]
    }
   ],
   "source": [
    "#Q53.  Create a NumPy array `arr1` with random integers and another array `arr2` with integers from 1 to 5. Perform element-wise multiplication between `arr1` and `arr2`.#\n",
    "\n",
    "arr1 = np.random.randint(0,5,size=(5,))\n",
    "arr2 = np.arange(1,6)\n",
    "Multiplication = arr1 * arr2\n",
    "print(\"Arr1\",arr1)\n",
    "print(\"Arr2\",arr2)\n",
    "print(\"Multiplication of Array\",Multiplication)"
   ]
  },
  {
   "cell_type": "code",
   "execution_count": 18,
   "id": "44597f6d-f1ca-4e55-b5cc-3e83babcc53d",
   "metadata": {},
   "outputs": [
    {
     "name": "stdout",
     "output_type": "stream",
     "text": [
      "Arr1 [ 2  4  6  8 10]\n",
      "Arr2 [1 2 3 4 5]\n",
      "Multiplication of Array [2. 2. 2. 2. 2.]\n"
     ]
    }
   ],
   "source": [
    "#Q54.Generate a NumPy array `arr1` with even integers from 2 to 10 and another array `arr2` with integers from 1 to 5. Perform element-wise division of `arr1` by `arr2`.#\n",
    "\n",
    "arr1 = np.arange(2,11,2)\n",
    "arr2 = np.arange(1,6)\n",
    "Multiplication = arr1 / arr2\n",
    "print(\"Arr1\",arr1)\n",
    "print(\"Arr2\",arr2)\n",
    "print(\"Multiplication of Array\",Multiplication)"
   ]
  },
  {
   "cell_type": "code",
   "execution_count": 19,
   "id": "2d631542-bc28-42da-b1a6-d0e86ecc6dd3",
   "metadata": {},
   "outputs": [
    {
     "name": "stdout",
     "output_type": "stream",
     "text": [
      "Arr1 [1 2 3 4 5]\n",
      "Arr2 [5 4 3 2 1]\n",
      "exponentiation of `arr1` raised to the power of `arr2` element-wise [ 1 16 27 16  5]\n"
     ]
    }
   ],
   "source": [
    "#Q55.Create a NumPy array `arr1` with integers from 1 to 5 and another array `arr2` with the same numbers reversed. Calculate the exponentiation of `arr1` raised to the power of `arr2` element-wise#\n",
    "\n",
    "arr1 = np.arange(1,6)\n",
    "arr2 = arr1[::-1]\n",
    "exponentiation_power = np.power(arr1,arr2)\n",
    "print(\"Arr1\",arr1)\n",
    "print(\"Arr2\",arr2)\n",
    "print(\"exponentiation of `arr1` raised to the power of `arr2` element-wise\",exponentiation_power)"
   ]
  },
  {
   "cell_type": "code",
   "execution_count": 22,
   "id": "09b635d6-debc-4a67-85fa-a0ee1590b983",
   "metadata": {},
   "outputs": [
    {
     "name": "stdout",
     "output_type": "stream",
     "text": [
      "specific substring [1 0 1 0 1]\n",
      "counts_the_occurrences 3\n"
     ]
    }
   ],
   "source": [
    "#Q56. Write a function that counts the occurrences of a specific substring within a NumPy array of strings#\n",
    "\n",
    "arr = np.array(['hello', 'world', 'hello', 'numpy', 'hello'])\n",
    "substring = \"hello\"\n",
    "specific_substring = np.char.count(arr, substring)\n",
    "counts_the_occurrences = np.sum(specific_substring)\n",
    "print(\"specific substring\",specific_substring)\n",
    "print(\"counts_the_occurrences\",counts_the_occurrences)"
   ]
  },
  {
   "cell_type": "code",
   "execution_count": 24,
   "id": "f7afd8a6-8d36-41ab-9b6e-9c4d082928aa",
   "metadata": {},
   "outputs": [
    {
     "name": "stdout",
     "output_type": "stream",
     "text": [
      "Extracts uppercase characters ['ello' 'orld' 'pen' '']\n"
     ]
    }
   ],
   "source": [
    "#Q57. Write a function that extracts uppercase characters from a NumPy array of strings.\n",
    "\n",
    "arr = np.array(['Hello', 'World', 'OpenAI', 'GPT'])\n",
    "def extract_uppercase(c):\n",
    "    return ''.join([char for char in c if not char.isupper()])\n",
    "uppercase_char = np.vectorize(extract_uppercase)(arr)\n",
    "print(\"Extracts uppercase characters\",uppercase_char)"
   ]
  },
  {
   "cell_type": "code",
   "execution_count": 26,
   "id": "c6bb44ee-ed9c-40ea-bb3a-49192c80e9e4",
   "metadata": {},
   "outputs": [
    {
     "name": "stdout",
     "output_type": "stream",
     "text": [
      "Original Array ['apple' 'banana' 'grape' 'pineapple']\n",
      "Replaces occurrences of a substring ['apple' 'banana' 'orange' 'pineapple']\n"
     ]
    }
   ],
   "source": [
    "#Q58.Write a function that replaces occurrences of a substring in a NumPy array of strings with a new string#\n",
    "\n",
    "arr = np.array(['apple', 'banana', 'grape', 'pineapple'])\n",
    "def replaces_occurrence(arr,old_substring,new_substring):\n",
    "    return np.char.replace(arr,old_substring,new_substring)\n",
    "replaces_occurrences_substring = replaces_occurrence(arr,\"grape\",\"orange\")\n",
    "print(\"Original Array\",arr)\n",
    "print(\"Replaces occurrences of a substring\",replaces_occurrences_substring)"
   ]
  },
  {
   "cell_type": "code",
   "execution_count": 32,
   "id": "92b7866a-6b4c-4e38-be6d-2e17b2ae8fef",
   "metadata": {},
   "outputs": [
    {
     "name": "stdout",
     "output_type": "stream",
     "text": [
      "Arr1 ['Hello' 'World']\n",
      "Arr2 ['Open' 'AI']\n",
      "Concatenation of strings ['HelloOpen' 'WorldAI']\n"
     ]
    }
   ],
   "source": [
    "#Q59.Write a function that concatenates strings in a NumPy array element-wise#\n",
    "\n",
    "def concatinate_strings(arr1,arr2):\n",
    "    return np.char.add(arr1,arr2)\n",
    "\n",
    "arr1 = np.array(['Hello', 'World'])\n",
    "arr2 = np.array(['Open', 'AI'])\n",
    "cocatination = concatinate_strings(arr1,arr2)\n",
    "print(\"Arr1\",arr1)\n",
    "print(\"Arr2\",arr2)\n",
    "print(\"Concatenation of strings\",cocatination)"
   ]
  },
  {
   "cell_type": "code",
   "execution_count": 35,
   "id": "be53796d-a8bf-4fba-b4c6-a212bcc543d1",
   "metadata": {},
   "outputs": [
    {
     "name": "stdout",
     "output_type": "stream",
     "text": [
      "length of longest string 9\n"
     ]
    }
   ],
   "source": [
    "#Q60.Write a function that finds the length of the longest string in a NumPy array#\n",
    "\n",
    "def length_of_string(arr):\n",
    "    vectorized_len = np.vectorize(len)\n",
    "    lengths = vectorized_len(arr)\n",
    "    return np.max(lengths)\n",
    "        \n",
    "arr = np.array(['apple', 'banana', 'grape', 'pineapple'])\n",
    "print(\"length of longest string\",length_of_string(arr))"
   ]
  },
  {
   "cell_type": "code",
   "execution_count": 39,
   "id": "a7311816-ce6b-4234-bbe7-01637024487e",
   "metadata": {},
   "outputs": [
    {
     "name": "stdout",
     "output_type": "stream",
     "text": [
      "Dataset [ 381  610  347   74  408  737  472  166  590  886  187 1000  562  695\n",
      "  661  703  130  995  221  802  607  804  749  391  311   59  612  754\n",
      "   43  983  867  733  165  394  946   89  693   56  470  277    4  841\n",
      "  418   58  533  438  496  349  257  431  165  750   89  143  229   74\n",
      "  363  438  923  802  317  381  755  444   67  599   66  493  666  466\n",
      "  393  331  133  947  776  776  983  879  731  271  990  558  841   44\n",
      "  636  372  984   87  644  199  210  324  567  548  410  207  254  413\n",
      "  286  190]\n",
      "Mean 476.69\n",
      "Median 438.0\n",
      "variance 81702.89389999998\n",
      "Standare Devaition 285.83718075155997\n"
     ]
    }
   ],
   "source": [
    "#Q61. Create a dataset of 100 random integers between 1 and 1000. Compute the mean, median, variance, and standard deviation of the dataset using NumPy's functions#\n",
    "\n",
    "arr1 = np.random.randint(1,1001,size = 100)\n",
    "print(\"Dataset\",arr1)\n",
    "print(\"Mean\",np.mean(arr1))\n",
    "print(\"Median\",np.median(arr1))\n",
    "print(\"variance\",np.var(arr1))\n",
    "print(\"Standare Devaition\",np.std(arr1))\n"
   ]
  },
  {
   "cell_type": "code",
   "execution_count": 41,
   "id": "0bc444da-2de2-43c9-b1a5-55d4c2e7c980",
   "metadata": {},
   "outputs": [
    {
     "name": "stdout",
     "output_type": "stream",
     "text": [
      "25th percentiles of the dataset 24.5\n",
      "75th percentiles of the dataset 77.5\n"
     ]
    }
   ],
   "source": [
    "#Q62. Generate an array of 50 random numbers between 1 and 100. Find the 25th and 75th percentiles of the dataset#\n",
    "\n",
    "arr1 = np.random.randint(1,101,size=50)\n",
    "print(\"25th percentiles of the dataset\",np.percentile(arr1,25))\n",
    "print(\"75th percentiles of the dataset\",np.percentile(arr1,75))\n"
   ]
  },
  {
   "cell_type": "code",
   "execution_count": 42,
   "id": "32e5c748-2502-45c7-bd89-ebf26ac53495",
   "metadata": {},
   "outputs": [
    {
     "name": "stdout",
     "output_type": "stream",
     "text": [
      "Correlation Coefficient between two arrays [[1. 1.]\n",
      " [1. 1.]]\n"
     ]
    }
   ],
   "source": [
    "#Q63.  Create two arrays representing two sets of variables. Compute the correlation coefficient between these arrays using NumPy's `corrcoef` function#\n",
    "\n",
    "arr1 = np.array([1,2,3,4])\n",
    "arr2 = np.array([5,6,7,8])\n",
    "correlation_coefficient = np.corrcoef(arr1,arr2)\n",
    "print(\"Correlation Coefficient between two arrays\",correlation_coefficient)"
   ]
  },
  {
   "cell_type": "code",
   "execution_count": 43,
   "id": "177f03c6-7a84-4822-bf09-5c74c1c69774",
   "metadata": {},
   "outputs": [
    {
     "name": "stdout",
     "output_type": "stream",
     "text": [
      "Correlation Coefficient between two arrays 1.0\n"
     ]
    }
   ],
   "source": [
    "arr1 = np.array([1,2,3,4])\n",
    "arr2 = np.array([5,6,7,8])\n",
    "correlation_matrix = np.corrcoef(arr1,arr2)\n",
    "correlation_coefficient = correlation_matrix[0, 1]\n",
    "print(\"Correlation Coefficient between two arrays\",correlation_coefficient)\n"
   ]
  },
  {
   "cell_type": "code",
   "execution_count": 49,
   "id": "b2f52da8-1fdd-4d7c-8c73-bddf4c515887",
   "metadata": {},
   "outputs": [
    {
     "name": "stdout",
     "output_type": "stream",
     "text": [
      "Arr1 [[2 1 1]\n",
      " [1 2 3]\n",
      " [2 1 2]]\n",
      "Arr2 [[4 3 2]\n",
      " [3 1 3]\n",
      " [4 3 4]]\n",
      "Matrix Multiplication [[15 10 11]\n",
      " [22 14 20]\n",
      " [19 13 15]]\n"
     ]
    }
   ],
   "source": [
    "#Q64. Create two matrices and perform matrix multiplication using NumPy's `dot` function#\n",
    "\n",
    "arr1 = np.random.randint(1,5,(3,3))\n",
    "arr2 = np.random.randint(1,5,(3,3))\n",
    "matrix_multiplication = np.dot(arr1,arr2)\n",
    "print(\"Arr1\",arr1)\n",
    "print(\"Arr2\",arr2)\n",
    "print(\"Matrix Multiplication\",matrix_multiplication)"
   ]
  },
  {
   "cell_type": "code",
   "execution_count": 58,
   "id": "7112b6db-2b22-435f-b82a-8df57bb58731",
   "metadata": {},
   "outputs": [
    {
     "name": "stdout",
     "output_type": "stream",
     "text": [
      "10th percentile : 104.10000000000001\n",
      "50th percentile : 496.0\n",
      "50th percentile : 496.0\n",
      "90th percentile : 854.8000000000001\n",
      "First quartiles: 197.0\n",
      "third quartiles: 753.0\n"
     ]
    }
   ],
   "source": [
    "#Q65. Create an array of 50 integers between 10 and 1000. Calculate the 10th, 50th (median), and 90th percentiles along with the first and third quartiles#\n",
    "\n",
    "arr1 = np.random.randint(10,1001,size = 50)\n",
    "print(\"10th percentile :\",np.percentile(arr1,10))\n",
    "print(\"50th percentile :\",np.percentile(arr1,50))\n",
    "print(\"50th percentile :\",np.median(arr1))\n",
    "print(\"90th percentile :\",np.percentile(arr1,90))\n",
    "print(\"First quartiles:\",np.percentile(arr1,25)) #First quartiles is 25th percentile\n",
    "print(\"third quartiles:\",np.percentile(arr1,75)) #third quartiles is 75th percentile"
   ]
  },
  {
   "cell_type": "code",
   "execution_count": 63,
   "id": "049107c5-910b-4a70-adb5-b607077f06a1",
   "metadata": {},
   "outputs": [
    {
     "name": "stdout",
     "output_type": "stream",
     "text": [
      "Index of specfic elements [2]\n"
     ]
    }
   ],
   "source": [
    "#Q66 Create a NumPy array of integers and find the index of a specific element#\n",
    "\n",
    "arr1 = np.array([1,2,3,6])\n",
    "elements = 3\n",
    "index_elements = np.where(arr1 == elements)[0]\n",
    "print(\"Index of specfic elements\",index_elements)\n"
   ]
  },
  {
   "cell_type": "code",
   "execution_count": 66,
   "id": "c8aa0dc5-5d08-4841-856a-ea9052853ac0",
   "metadata": {},
   "outputs": [
    {
     "name": "stdout",
     "output_type": "stream",
     "text": [
      "Index of specific element ( 3 ): [2]\n"
     ]
    }
   ],
   "source": [
    "arr1 = np.array([1,2,3,6])\n",
    "elements = 3\n",
    "index_elements = np.where(arr1 == elements)[0]\n",
    "print(\"Index of specific element (\", elements, \"):\", index_elements)"
   ]
  },
  {
   "cell_type": "code",
   "execution_count": 70,
   "id": "6316daf4-a21f-4ff8-a25a-b91626b0b284",
   "metadata": {},
   "outputs": [
    {
     "name": "stdout",
     "output_type": "stream",
     "text": [
      "Original Array [9 3 7 5 9 8 8 9 8 7]\n",
      "Ascending Order Array [3 5 7 7 8 8 8 9 9 9]\n"
     ]
    }
   ],
   "source": [
    "#Q67. Generate a random NumPy array and sort it in ascending order#\n",
    "\n",
    "arr1 = np.random.randint(1,10,size = 10 )\n",
    "ascending_order = np.sort(arr1)\n",
    "print(\"Original Array\",arr1)\n",
    "print(\"Ascending Order Array\",ascending_order)"
   ]
  },
  {
   "cell_type": "code",
   "execution_count": 73,
   "id": "66de0976-7cec-4c64-9702-ddaf2984e3df",
   "metadata": {},
   "outputs": [
    {
     "name": "stdout",
     "output_type": "stream",
     "text": [
      "Filter elements >2 [25 42 30]\n"
     ]
    }
   ],
   "source": [
    "#Q68.  Filter elements >20  in the given NumPy array#\n",
    "\n",
    "arr = np.array([12, 25, 6, 42, 8, 30])\n",
    "greater_than = arr[arr>20]\n",
    "print(\"Filter elements >2\",greater_than)"
   ]
  },
  {
   "cell_type": "code",
   "execution_count": 74,
   "id": "bffff2e7-220a-4d71-9f2b-9a651ebd674e",
   "metadata": {},
   "outputs": [
    {
     "name": "stdout",
     "output_type": "stream",
     "text": [
      "Filter elements >2 [False  True False  True False  True]\n"
     ]
    }
   ],
   "source": [
    "arr = np.array([12, 25, 6, 42, 8, 30])\n",
    "greater_than = arr>20 \n",
    "print(\"Filter elements >2\",greater_than)"
   ]
  },
  {
   "cell_type": "code",
   "execution_count": 78,
   "id": "59586d87-206b-4e83-a73e-6e01674481af",
   "metadata": {},
   "outputs": [
    {
     "name": "stdout",
     "output_type": "stream",
     "text": [
      "Original Array [ 1  5  8 12 15]\n",
      "Divisible by 3 [12 15]\n"
     ]
    }
   ],
   "source": [
    "#Q69.Filter elements which are divisible by 3 from a given NumPy array#\n",
    "\n",
    "arr = np.array([1, 5, 8, 12, 15])\n",
    "devide_by = arr[arr % 3 == 0]\n",
    "print(\"Original Array\",arr)\n",
    "print(\"Divisible by 3\",devide_by)"
   ]
  },
  {
   "cell_type": "code",
   "execution_count": 80,
   "id": "71858846-77d1-4068-a2b2-18a3a7b71fcf",
   "metadata": {},
   "outputs": [
    {
     "name": "stdout",
     "output_type": "stream",
     "text": [
      "Original Array [10 20 30 40 50]\n",
      "Greater than equal to 20 [20 30 40 50]\n",
      "Less Than equal to 40 [10 20 30 40]\n"
     ]
    }
   ],
   "source": [
    "#Q70.Filter elements which are ≥ 20 and ≤ 40 from a given NumPy array#\n",
    "\n",
    "arr = np.array([10, 20, 30, 40, 50])\n",
    "greater_equal_to = arr[arr >= 20]\n",
    "less_equal_to = arr[arr <= 40]\n",
    "print(\"Original Array\",arr)\n",
    "print(\"Greater than equal to 20\",greater_equal_to)\n",
    "print(\"Less Than equal to 40\",less_equal_to)"
   ]
  },
  {
   "cell_type": "code",
   "execution_count": 88,
   "id": "d72c4f82-4324-48b7-bd8b-413836de5b47",
   "metadata": {},
   "outputs": [
    {
     "name": "stdout",
     "output_type": "stream",
     "text": [
      "original array [1 2 3]\n",
      "byte order =\n"
     ]
    }
   ],
   "source": [
    "#Q71.  For the given NumPy array, check its byte order using the `dtype` attribute byteorder#\n",
    "\n",
    "arr = np.array([1, 2, 3])\n",
    "byte_order = arr.dtype.byteorder\n",
    "print(\"original array\",arr)\n",
    "print(\"byte order\",byte_order)"
   ]
  },
  {
   "cell_type": "code",
   "execution_count": 89,
   "id": "e8c3e76e-d7e1-4019-bab2-af0a4ab745b9",
   "metadata": {},
   "outputs": [
    {
     "name": "stdout",
     "output_type": "stream",
     "text": [
      "original array [1 2 3]\n",
      "byte swap [16777216 33554432 50331648]\n"
     ]
    }
   ],
   "source": [
    "#Q72.For the given NumPy array, perform byte swapping in place using `byteswap()`#\n",
    "\n",
    "arr = np.array([1, 2, 3], dtype=np.int32)\n",
    "byte_swap = arr.byteswap()\n",
    "print(\"original array\",arr)\n",
    "print(\"byte swap\",byte_swap)"
   ]
  },
  {
   "cell_type": "code",
   "execution_count": 95,
   "id": "5b540e44-54b9-4510-8ed6-b2516b4e9056",
   "metadata": {},
   "outputs": [
    {
     "name": "stdout",
     "output_type": "stream",
     "text": [
      "original array [1 2 3]\n",
      "byte swap [1 2 3]\n"
     ]
    }
   ],
   "source": [
    "#Q73. For the given NumPy array, swap its byte order without modifying the original array using `newbyteorder()#\n",
    "\n",
    "arr = np.array([1, 2, 3], dtype=np.int32)\n",
    "byte_swap = arr.byteswap().newbyteorder()\n",
    "print(\"original array\",arr)\n",
    "print(\"byte swap\",byte_swap)"
   ]
  },
  {
   "cell_type": "code",
   "execution_count": 97,
   "id": "72954fd0-315f-47b6-8ed3-65144d42f5b5",
   "metadata": {},
   "outputs": [
    {
     "name": "stdout",
     "output_type": "stream",
     "text": [
      "Original Array: [1 2 3]\n",
      "Swap byte order conditionally: [1 2 3]\n"
     ]
    }
   ],
   "source": [
    "#Q74.For the given NumPy array and swap its byte order conditionally based on system endianness using `newbyteorder()`#\n",
    "\n",
    "arr = np.array([1, 2, 3], dtype=np.int32)\n",
    "native_bytorder = np.dtype(np.int32).byteorder\n",
    "array_bytorder = arr.dtype.byteorder\n",
    "if native_bytorder != array_bytorder and array_bytorder != '|':\n",
    "    byte_swap = arr.newbyteorder()\n",
    "else:\n",
    "    byet_swap = arr\n",
    "print(\"Original Array:\", arr)\n",
    "print(\"Swap byte order conditionally:\", byte_swap)  "
   ]
  },
  {
   "cell_type": "code",
   "execution_count": 102,
   "id": "72a2ac1d-c194-4a6a-9097-91ad534203eb",
   "metadata": {},
   "outputs": [
    {
     "name": "stdout",
     "output_type": "stream",
     "text": [
      "byte swapping is necessary\n"
     ]
    }
   ],
   "source": [
    "#Q75. For the given NumPy array, check if byte swapping is necessary for the current system using `dtype` attribute `byteorder`#\n",
    "\n",
    "arr = np.array([1, 2, 3], dtype=np.int32)\n",
    "arr_byteorder = np.dtype.byteorder\n",
    "native_byteorder = np.dtype(np.int32).byteorder\n",
    "if arr_byteorder != native_byteorder and arr_byteorder != '|':\n",
    "    print(\"byte swapping is necessary\")\n",
    "else:\n",
    "    print(\"byte swapping is not needed\")"
   ]
  },
  {
   "cell_type": "code",
   "execution_count": 113,
   "id": "63b08c27-82e6-4be8-a90a-d0700e89ee3b",
   "metadata": {},
   "outputs": [
    {
     "name": "stdout",
     "output_type": "stream",
     "text": [
      "Origonal Arry [ 1  2  3  4  5  6  7  8  9 10]\n",
      "Copied Array [ 1  2  3  4  5  6  7  8  9 10]\n",
      "Modified Copy Array [20  2  3  4  5  6  7  8  9 10]\n",
      "Original Array after moficication [ 1  2  3  4  5  6  7  8  9 10]\n"
     ]
    }
   ],
   "source": [
    "#Q76. Create a NumPy array `arr1` with values from 1 to 10. Create a copy of `arr1` named `copy_arr` and modify an element in `copy_arr`. Check if modifying `copy_arr` affects `arr1`. #\n",
    "\n",
    "arr1 = np.arange(1,11)\n",
    "copy_arr = arr1.copy() \n",
    "print(\"Origonal Arry\",arr1)\n",
    "print(\"Copied Array\",copy_arr)\n",
    "copy_arr[0] = 20\n",
    "print(\"Modified Copy Array\",copy_arr)\n",
    "print(\"Original Array after moficication\",arr1)\n",
    "\n",
    "#So here we haev used deep copy method, in which after copying array(copy_arr = arr1.copy() ) we did any modification in copied array i.e(copy_arr),it will not\n",
    "#made any changes in original array#"
   ]
  },
  {
   "cell_type": "code",
   "execution_count": 128,
   "id": "33c81593-7ac3-4d6b-b030-ef66b6be2daa",
   "metadata": {},
   "outputs": [
    {
     "name": "stdout",
     "output_type": "stream",
     "text": [
      "original Matrix [[1 2 2]\n",
      " [1 2 1]\n",
      " [2 1 1]]\n",
      "View Slice [[2 1]\n",
      " [1 1]]\n",
      "Modified View slice [[ 2  1]\n",
      " [ 1 90]]\n",
      "original Matrix [[ 1  2  2]\n",
      " [ 1  2  1]\n",
      " [ 2  1 90]]\n"
     ]
    }
   ],
   "source": [
    "#Q77.Create a 2D NumPy array `matrix` of shape (3, 3) with random integers. Extract a slice `view_slice` from the matrix. Modify an element in `view_slice` and observe if it changes the original `matrix`#\n",
    "\n",
    "matrix = np.random.randint(1,3,(3,3))\n",
    "view_slice = matrix[1:,1:]\n",
    "print(\"original Matrix\", matrix)\n",
    "print(\"View Slice\",view_slice)\n",
    "view_slice[1, 1] = 90\n",
    "print(\"Modified View slice\",view_slice)\n",
    "print(\"original Matrix\", matrix)\n",
    "\n",
    "#As per below output we sliced view_slice and modified element by adding [1,1] = 90 in view_slice, after this we checke original matrix got changed#"
   ]
  },
  {
   "cell_type": "code",
   "execution_count": 129,
   "id": "59335d48-d40f-4a3d-a874-3fbedbde1baa",
   "metadata": {},
   "outputs": [
    {
     "name": "stdout",
     "output_type": "stream",
     "text": [
      "original Matrix [[1 1 1]\n",
      " [2 1 2]\n",
      " [2 2 1]]\n",
      "View Slice [[2 1 2]\n",
      " [2 2 1]]\n",
      "Modified View slice [[ 2  1  2]\n",
      " [ 2 90  1]]\n",
      "original Matrix [[ 1  1  1]\n",
      " [ 2  1  2]\n",
      " [ 2 90  1]]\n"
     ]
    }
   ],
   "source": [
    "matrix = np.random.randint(1,3,(3,3))\n",
    "view_slice = matrix[1:]\n",
    "print(\"original Matrix\", matrix)\n",
    "print(\"View Slice\",view_slice)\n",
    "view_slice[1, 1] = 90\n",
    "print(\"Modified View slice\",view_slice)\n",
    "print(\"original Matrix\", matrix)"
   ]
  },
  {
   "cell_type": "code",
   "execution_count": 8,
   "id": "46b6eb06-3f93-4be2-ad09-2af510eed406",
   "metadata": {},
   "outputs": [
    {
     "name": "stdout",
     "output_type": "stream",
     "text": [
      "Original Array [[ 1  2  3]\n",
      " [ 4  5  6]\n",
      " [ 7  8  9]\n",
      " [10 11 12]]\n",
      "View Slice b: [[5 6]\n",
      " [8 9]]\n",
      "Addition view b [[10 11]\n",
      " [13 14]]\n",
      "Original Array [[ 1  2  3]\n",
      " [ 4  5  6]\n",
      " [ 7  8  9]\n",
      " [10 11 12]]\n"
     ]
    }
   ],
   "source": [
    "#Q78.Create a NumPy array `array_a` of shape (4, 3) with sequential integers from 1 to 12. Extract a slice `view_b` from `array_a` and broadcast the addition of 5 to view_b. Check if it alters the original `array_a`#\n",
    "\n",
    "array_a = np.arange(1,13).reshape(4,3)\n",
    "view_b = array_a[1:3,1:]\n",
    "addition_viewb = view_b + 5\n",
    "\n",
    "print(\"Original Array\",array_a)\n",
    "print(\"View Slice b:\",view_b)\n",
    "print(\"Addition view b\",addition_viewb)\n",
    "print(\"Original Array\",array_a)\n",
    "\n",
    "#As per below2 output we extracted slice b and added 5 intger in view_b, after this we checke doriginal array remains same,i.e no array_a reamian same as decalred#\n"
   ]
  },
  {
   "cell_type": "code",
   "execution_count": 17,
   "id": "a31ee35b-d97e-4ae6-909c-2766ddbbc7cc",
   "metadata": {},
   "outputs": [
    {
     "name": "stdout",
     "output_type": "stream",
     "text": [
      "Original Array [[1 2 3 4]\n",
      " [5 6 7 8]]\n",
      "reshaped Array [[1 2]\n",
      " [3 4]\n",
      " [5 6]\n",
      " [7 8]]\n",
      "Modified Array [[ 1  2]\n",
      " [10  4]\n",
      " [ 5  6]\n",
      " [ 7  8]]\n",
      "Original Array [[ 1  2 10  4]\n",
      " [ 5  6  7  8]]\n"
     ]
    }
   ],
   "source": [
    "#Q79.Create a NumPy array `orig_array` of shape (2, 4) with values from 1 to 8. Create a reshaped view `reshaped_view` of shape (4, 2) from orig_array. Modify an element in `reshaped_view` and check if it\n",
    "#reflects changes in the original `orig_array`#\n",
    "\n",
    "orig_array = np.arange(1,9).reshape(2,4)\n",
    "reshaped_view = orig_array.reshape(4,2)\n",
    "print(\"Original Array\",orig_array)\n",
    "print(\"reshaped Array\",reshaped_view)\n",
    "reshaped_view[1,0] = 10\n",
    "print(\"Modified Array\",reshaped_view)\n",
    "print(\"Original Array\",orig_array)\n",
    "\n",
    "#As per below output we have reshaped orig_array and modified reshaped_view by adding 10 from rows 1, orign_array got changed."
   ]
  },
  {
   "cell_type": "code",
   "execution_count": 32,
   "id": "432f8617-9cbd-4af1-90f4-f420cc6dfde2",
   "metadata": {},
   "outputs": [
    {
     "name": "stdout",
     "output_type": "stream",
     "text": [
      "Original data [[ 2  8  9  2]\n",
      " [16  1  5 10]\n",
      " [15  6  8  9]]\n",
      "\n",
      "Copied Data: [ 8  9 16 10 15  6  8  9]\n",
      "\n",
      "modified data [ 8 10 16 10 15  6  8  9]\n",
      "\n",
      "original data [[ 2  8  9  2]\n",
      " [16  1  5 10]\n",
      " [15  6  8  9]]\n"
     ]
    }
   ],
   "source": [
    "#Q80.Create a NumPy array `data` of shape (3, 4) with random integers. Extract a copy `data_copy` of elements greater than 5. Modify an element in `data_copy` and verify if it affects the original `data`#\n",
    "\n",
    "data = np.random.randint(1,20,size =(3,4))\n",
    "data_copy = data[data > 5] #find greater than 5\n",
    "print(\"Original data\",data)\n",
    "print(\"\\nCopied Data:\",data_copy)\n",
    "data_copy[1] = 10 #add 10 at index 1\n",
    "print(\"\\nmodified data\",data_copy)\n",
    "print(\"\\noriginal data\",data)\n"
   ]
  },
  {
   "cell_type": "code",
   "execution_count": 36,
   "id": "cfef7be3-ee6e-48c2-b0b3-d50efb42afc1",
   "metadata": {},
   "outputs": [
    {
     "name": "stdout",
     "output_type": "stream",
     "text": [
      "Matrix A [[1 2 1]\n",
      " [2 1 2]\n",
      " [1 1 2]]\n",
      "Matrix B [[12 12 12]\n",
      " [12 11 11]\n",
      " [11 11 12]]\n",
      "Addition of Matrix [[13 14 13]\n",
      " [14 12 13]\n",
      " [12 12 14]]\n",
      "Substarction of matrix [[-11 -10 -11]\n",
      " [-10 -10  -9]\n",
      " [-10 -10 -10]]\n"
     ]
    }
   ],
   "source": [
    "#Q81. Create two matrices A and B of identical shape containing integers and perform addition and subtraction operations between them#\n",
    "\n",
    "A = np.random.randint(1,3,(3,3))\n",
    "B = np.random.randint(11,13,(3,3))\n",
    "print(\"Matrix A\",A)\n",
    "print(\"Matrix B\",B)\n",
    "Addition_of_matrix = A+B\n",
    "Subtraction_of_matrix = A-B\n",
    "print(\"Addition of Matrix\",Addition_of_matrix)\n",
    "print(\"Substarction of matrix\",Subtraction_of_matrix)"
   ]
  },
  {
   "cell_type": "code",
   "execution_count": 42,
   "id": "7d8f969e-ac3e-494b-a392-889f805349ed",
   "metadata": {},
   "outputs": [
    {
     "name": "stdout",
     "output_type": "stream",
     "text": [
      "Matrix C [[1 1]\n",
      " [1 1]\n",
      " [1 2]]\n",
      "Matrix D [[7 3 7 8]\n",
      " [8 2 3 8]]\n",
      "Matrix Multiplication [[15  5 10 16]\n",
      " [15  5 10 16]\n",
      " [23  7 13 24]]\n"
     ]
    }
   ],
   "source": [
    "#Q82. Generate two matrices `C` (3x2) and `D` (2x4) and perform matrix multiplication#\n",
    "\n",
    "C = np.random.randint(1,3,(3,2))\n",
    "D = np.random.randint(1,9,(2,4))\n",
    "print(\"Matrix C\", C)\n",
    "print(\"Matrix D\", D)\n",
    "matrix_multiplication = C @ D\n",
    "print(\"Matrix Multiplication\",matrix_multiplication)"
   ]
  },
  {
   "cell_type": "code",
   "execution_count": 44,
   "id": "c27d4e1f-02a1-4545-8e24-50cbbc302a82",
   "metadata": {},
   "outputs": [
    {
     "name": "stdout",
     "output_type": "stream",
     "text": [
      "Original Array [[1 2 2]\n",
      " [2 2 2]\n",
      " [1 1 1]]\n",
      "\n",
      "Transpose of array [[1 2 1]\n",
      " [2 2 1]\n",
      " [2 2 1]]\n"
     ]
    }
   ],
   "source": [
    "#Q83.Create a matrix `E` and find its transpose#\n",
    "\n",
    "E = np.random.randint(1,3,(3,3))\n",
    "tranpose_matrix = np.transpose(E)\n",
    "print(\"Original Array\",E)\n",
    "print(\"\\nTranspose of array\",tranpose_matrix)\n",
    "                      "
   ]
  },
  {
   "cell_type": "code",
   "execution_count": 46,
   "id": "dec1b41a-00ed-4523-90cb-3697b2276bb0",
   "metadata": {},
   "outputs": [
    {
     "name": "stdout",
     "output_type": "stream",
     "text": [
      "Original Array [[1 1 2]\n",
      " [2 1 1]\n",
      " [1 2 2]]\n",
      "Determinant Matrix 2.9999999999999996\n"
     ]
    }
   ],
   "source": [
    "#Q84. Generate a square matrix `F` and compute its determinant#\n",
    "\n",
    "F = np.random.randint(1,3,(3,3))\n",
    "determinant = np.linalg.det(F)\n",
    "print(\"Original Array\",F)\n",
    "print(\"Determinant Matrix\",determinant)"
   ]
  },
  {
   "cell_type": "code",
   "execution_count": 49,
   "id": "9d57ddca-1e09-43b3-8ef5-ee11649fcee3",
   "metadata": {},
   "outputs": [
    {
     "name": "stdout",
     "output_type": "stream",
     "text": [
      "Original Array [[2 1 2]\n",
      " [2 2 1]\n",
      " [1 1 2]]\n",
      "Inverse matrix [[ 1.00000000e+00 -5.55111512e-17 -1.00000000e+00]\n",
      " [-1.00000000e+00  6.66666667e-01  6.66666667e-01]\n",
      " [ 0.00000000e+00 -3.33333333e-01  6.66666667e-01]]\n"
     ]
    }
   ],
   "source": [
    "#Q85.Create a square matrix `G` and find its inverse.#\n",
    "\n",
    "F = np.random.randint(1,3,(3,3))\n",
    "inverse_matrix = np.linalg.inv(F)\n",
    "print(\"Original Array\",F)\n",
    "print(\"Inverse matrix\",inverse_matrix)\n"
   ]
  },
  {
   "cell_type": "code",
   "execution_count": null,
   "id": "24d8a014-1444-49db-934c-9439bbdee7cb",
   "metadata": {},
   "outputs": [],
   "source": []
  }
 ],
 "metadata": {
  "kernelspec": {
   "display_name": "Python 3 (ipykernel)",
   "language": "python",
   "name": "python3"
  },
  "language_info": {
   "codemirror_mode": {
    "name": "ipython",
    "version": 3
   },
   "file_extension": ".py",
   "mimetype": "text/x-python",
   "name": "python",
   "nbconvert_exporter": "python",
   "pygments_lexer": "ipython3",
   "version": "3.10.8"
  }
 },
 "nbformat": 4,
 "nbformat_minor": 5
}
